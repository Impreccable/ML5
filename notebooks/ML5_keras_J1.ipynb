{
 "cells": [
  {
   "cell_type": "markdown",
   "metadata": {},
   "source": [
    "### IMPORTS"
   ]
  },
  {
   "cell_type": "code",
   "execution_count": 260,
   "metadata": {},
   "outputs": [],
   "source": [
    "import pandas as pd\n",
    "import os\n",
    "import numpy as numpy\n",
    "\n",
    "import keras\n",
    "from keras.models import Sequential\n",
    "from keras.layers import Dense\n",
    "\n",
    "import matplotlib.pyplot as plt\n",
    "import plotly as px"
   ]
  },
  {
   "attachments": {},
   "cell_type": "markdown",
   "metadata": {},
   "source": [
    "# First Deep Learning Project in Python with Keras"
   ]
  },
  {
   "attachments": {},
   "cell_type": "markdown",
   "metadata": {},
   "source": [
    "The steps we are going to cover:\n",
    "1. Load Data.\n",
    "2. Define Keras Model.\n",
    "3. Compile Keras Model.\n",
    "4. Fit Keras Model.\n",
    "5. Evaluate Keras Model.\n",
    "6. Put It All Together.\n",
    "7. Make Predictions"
   ]
  },
  {
   "attachments": {},
   "cell_type": "markdown",
   "metadata": {},
   "source": [
    "## Load Data\n",
    "    "
   ]
  },
  {
   "attachments": {},
   "cell_type": "markdown",
   "metadata": {},
   "source": [
    "Download the dataset and place it in your local working directory, the same location as your python file. Take a look at the dataset:"
   ]
  },
  {
   "cell_type": "code",
   "execution_count": 261,
   "metadata": {},
   "outputs": [],
   "source": [
    "df = pd.read_csv('../data/housepricedata.csv')"
   ]
  },
  {
   "cell_type": "code",
   "execution_count": 262,
   "metadata": {},
   "outputs": [
    {
     "data": {
      "text/html": [
       "<div>\n",
       "<style scoped>\n",
       "    .dataframe tbody tr th:only-of-type {\n",
       "        vertical-align: middle;\n",
       "    }\n",
       "\n",
       "    .dataframe tbody tr th {\n",
       "        vertical-align: top;\n",
       "    }\n",
       "\n",
       "    .dataframe thead th {\n",
       "        text-align: right;\n",
       "    }\n",
       "</style>\n",
       "<table border=\"1\" class=\"dataframe\">\n",
       "  <thead>\n",
       "    <tr style=\"text-align: right;\">\n",
       "      <th></th>\n",
       "      <th>LotArea</th>\n",
       "      <th>OverallQual</th>\n",
       "      <th>OverallCond</th>\n",
       "      <th>TotalBsmtSF</th>\n",
       "      <th>FullBath</th>\n",
       "      <th>HalfBath</th>\n",
       "      <th>BedroomAbvGr</th>\n",
       "      <th>TotRmsAbvGrd</th>\n",
       "      <th>Fireplaces</th>\n",
       "      <th>GarageArea</th>\n",
       "      <th>AboveMedianPrice</th>\n",
       "    </tr>\n",
       "  </thead>\n",
       "  <tbody>\n",
       "    <tr>\n",
       "      <th>0</th>\n",
       "      <td>8450</td>\n",
       "      <td>7</td>\n",
       "      <td>5</td>\n",
       "      <td>856</td>\n",
       "      <td>2</td>\n",
       "      <td>1</td>\n",
       "      <td>3</td>\n",
       "      <td>8</td>\n",
       "      <td>0</td>\n",
       "      <td>548</td>\n",
       "      <td>1</td>\n",
       "    </tr>\n",
       "    <tr>\n",
       "      <th>1</th>\n",
       "      <td>9600</td>\n",
       "      <td>6</td>\n",
       "      <td>8</td>\n",
       "      <td>1262</td>\n",
       "      <td>2</td>\n",
       "      <td>0</td>\n",
       "      <td>3</td>\n",
       "      <td>6</td>\n",
       "      <td>1</td>\n",
       "      <td>460</td>\n",
       "      <td>1</td>\n",
       "    </tr>\n",
       "    <tr>\n",
       "      <th>2</th>\n",
       "      <td>11250</td>\n",
       "      <td>7</td>\n",
       "      <td>5</td>\n",
       "      <td>920</td>\n",
       "      <td>2</td>\n",
       "      <td>1</td>\n",
       "      <td>3</td>\n",
       "      <td>6</td>\n",
       "      <td>1</td>\n",
       "      <td>608</td>\n",
       "      <td>1</td>\n",
       "    </tr>\n",
       "    <tr>\n",
       "      <th>3</th>\n",
       "      <td>9550</td>\n",
       "      <td>7</td>\n",
       "      <td>5</td>\n",
       "      <td>756</td>\n",
       "      <td>1</td>\n",
       "      <td>0</td>\n",
       "      <td>3</td>\n",
       "      <td>7</td>\n",
       "      <td>1</td>\n",
       "      <td>642</td>\n",
       "      <td>0</td>\n",
       "    </tr>\n",
       "    <tr>\n",
       "      <th>4</th>\n",
       "      <td>14260</td>\n",
       "      <td>8</td>\n",
       "      <td>5</td>\n",
       "      <td>1145</td>\n",
       "      <td>2</td>\n",
       "      <td>1</td>\n",
       "      <td>4</td>\n",
       "      <td>9</td>\n",
       "      <td>1</td>\n",
       "      <td>836</td>\n",
       "      <td>1</td>\n",
       "    </tr>\n",
       "    <tr>\n",
       "      <th>5</th>\n",
       "      <td>14115</td>\n",
       "      <td>5</td>\n",
       "      <td>5</td>\n",
       "      <td>796</td>\n",
       "      <td>1</td>\n",
       "      <td>1</td>\n",
       "      <td>1</td>\n",
       "      <td>5</td>\n",
       "      <td>0</td>\n",
       "      <td>480</td>\n",
       "      <td>0</td>\n",
       "    </tr>\n",
       "    <tr>\n",
       "      <th>6</th>\n",
       "      <td>10084</td>\n",
       "      <td>8</td>\n",
       "      <td>5</td>\n",
       "      <td>1686</td>\n",
       "      <td>2</td>\n",
       "      <td>0</td>\n",
       "      <td>3</td>\n",
       "      <td>7</td>\n",
       "      <td>1</td>\n",
       "      <td>636</td>\n",
       "      <td>1</td>\n",
       "    </tr>\n",
       "    <tr>\n",
       "      <th>7</th>\n",
       "      <td>10382</td>\n",
       "      <td>7</td>\n",
       "      <td>6</td>\n",
       "      <td>1107</td>\n",
       "      <td>2</td>\n",
       "      <td>1</td>\n",
       "      <td>3</td>\n",
       "      <td>7</td>\n",
       "      <td>2</td>\n",
       "      <td>484</td>\n",
       "      <td>1</td>\n",
       "    </tr>\n",
       "    <tr>\n",
       "      <th>8</th>\n",
       "      <td>6120</td>\n",
       "      <td>7</td>\n",
       "      <td>5</td>\n",
       "      <td>952</td>\n",
       "      <td>2</td>\n",
       "      <td>0</td>\n",
       "      <td>2</td>\n",
       "      <td>8</td>\n",
       "      <td>2</td>\n",
       "      <td>468</td>\n",
       "      <td>0</td>\n",
       "    </tr>\n",
       "    <tr>\n",
       "      <th>9</th>\n",
       "      <td>7420</td>\n",
       "      <td>5</td>\n",
       "      <td>6</td>\n",
       "      <td>991</td>\n",
       "      <td>1</td>\n",
       "      <td>0</td>\n",
       "      <td>2</td>\n",
       "      <td>5</td>\n",
       "      <td>2</td>\n",
       "      <td>205</td>\n",
       "      <td>0</td>\n",
       "    </tr>\n",
       "  </tbody>\n",
       "</table>\n",
       "</div>"
      ],
      "text/plain": [
       "   LotArea  OverallQual  OverallCond  TotalBsmtSF  FullBath  HalfBath  \\\n",
       "0     8450            7            5          856         2         1   \n",
       "1     9600            6            8         1262         2         0   \n",
       "2    11250            7            5          920         2         1   \n",
       "3     9550            7            5          756         1         0   \n",
       "4    14260            8            5         1145         2         1   \n",
       "5    14115            5            5          796         1         1   \n",
       "6    10084            8            5         1686         2         0   \n",
       "7    10382            7            6         1107         2         1   \n",
       "8     6120            7            5          952         2         0   \n",
       "9     7420            5            6          991         1         0   \n",
       "\n",
       "   BedroomAbvGr  TotRmsAbvGrd  Fireplaces  GarageArea  AboveMedianPrice  \n",
       "0             3             8           0         548                 1  \n",
       "1             3             6           1         460                 1  \n",
       "2             3             6           1         608                 1  \n",
       "3             3             7           1         642                 0  \n",
       "4             4             9           1         836                 1  \n",
       "5             1             5           0         480                 0  \n",
       "6             3             7           1         636                 1  \n",
       "7             3             7           2         484                 1  \n",
       "8             2             8           2         468                 0  \n",
       "9             2             5           2         205                 0  "
      ]
     },
     "execution_count": 262,
     "metadata": {},
     "output_type": "execute_result"
    }
   ],
   "source": [
    "df.head(10)"
   ]
  },
  {
   "attachments": {},
   "cell_type": "markdown",
   "metadata": {},
   "source": [
    "Here, you can explore the data a little. We have our input features in the first ten columns:\n",
    "\n",
    "- Lot Area (in sq ft)\n",
    "- Overall Quality (scale from 1 to 10)\n",
    "- Overall Condition (scale from 1 to 10)\n",
    "- Total Basement Area (in sq ft)\n",
    "- Number of Full Bathrooms\n",
    "- Number of Half Bathrooms\n",
    "- Number of Bedrooms above ground\n",
    "- Total Number of Rooms above ground\n",
    "- Number of Fireplaces\n",
    "- Garage Area (in sq ft)\n",
    "\n",
    "In our last column, we have the feature that we would like to predict:\n",
    "- Is the house price above the median or not? (1 for yes and 0 for no)\n",
    "\n",
    "Which task are we going to train the neural network for (regression, classification, other...) ?"
   ]
  },
  {
   "cell_type": "code",
   "execution_count": 263,
   "metadata": {},
   "outputs": [],
   "source": [
    "# Your answer here : CLASSIFICATION"
   ]
  },
  {
   "attachments": {},
   "cell_type": "markdown",
   "metadata": {},
   "source": [
    "Now that we’ve seen what our data looks like, we want to convert it into arrays for our machine to process:"
   ]
  },
  {
   "cell_type": "code",
   "execution_count": 264,
   "metadata": {},
   "outputs": [],
   "source": [
    "dataset = df.values"
   ]
  },
  {
   "cell_type": "code",
   "execution_count": 265,
   "metadata": {},
   "outputs": [
    {
     "data": {
      "text/plain": [
       "array([[ 8450,     7,     5, ...,     0,   548,     1],\n",
       "       [ 9600,     6,     8, ...,     1,   460,     1],\n",
       "       [11250,     7,     5, ...,     1,   608,     1],\n",
       "       ...,\n",
       "       [ 9042,     7,     9, ...,     2,   252,     1],\n",
       "       [ 9717,     5,     6, ...,     0,   240,     0],\n",
       "       [ 9937,     5,     6, ...,     0,   276,     0]])"
      ]
     },
     "execution_count": 265,
     "metadata": {},
     "output_type": "execute_result"
    }
   ],
   "source": [
    "dataset"
   ]
  },
  {
   "attachments": {},
   "cell_type": "markdown",
   "metadata": {},
   "source": [
    "Split the dataset into input features (X) and the feature we wish to predict (Y). To do that split, assign the first 10 columns of our array to a variable called X and the last column of our array to a variable called Y"
   ]
  },
  {
   "cell_type": "code",
   "execution_count": 266,
   "metadata": {},
   "outputs": [],
   "source": [
    "X = dataset[:,0:10]\n",
    "y = dataset[:,10]"
   ]
  },
  {
   "cell_type": "code",
   "execution_count": 268,
   "metadata": {},
   "outputs": [
    {
     "data": {
      "text/plain": [
       "array([1, 1, 1, ..., 1, 0, 0])"
      ]
     },
     "execution_count": 268,
     "metadata": {},
     "output_type": "execute_result"
    }
   ],
   "source": [
    "y"
   ]
  },
  {
   "attachments": {},
   "cell_type": "markdown",
   "metadata": {},
   "source": [
    "Now, we want to split our dataset into a training set, a validation set and a test set. These are the dimensions you need to get for your train, validation and test datasets: (1022, 10) (219, 10) (219, 10) (1022,) (219,) (219,)\n",
    "\n",
    "We will use the code from scikit-learn called ‘train_test_split’, which as the name suggests, split our dataset into a training set and a test set. We first import the code we need:"
   ]
  },
  {
   "cell_type": "code",
   "execution_count": 275,
   "metadata": {},
   "outputs": [],
   "source": [
    "# splitting into train and test\n",
    "from sklearn.model_selection import train_test_split\n",
    "\n",
    "X_train, X_test, y_train, y_test = train_test_split(X, y, test_size=0.3, random_state=42)"
   ]
  },
  {
   "attachments": {},
   "cell_type": "markdown",
   "metadata": {},
   "source": [
    "Unfortunately, this function only helps us split our dataset into two. Since we want a separate validation set and test set, we can use the same function to do the split again on val_and_test:"
   ]
  },
  {
   "cell_type": "code",
   "execution_count": 276,
   "metadata": {},
   "outputs": [],
   "source": [
    "# splitting into validation and test\n",
    "X_val, X_test, y_val, y_test = train_test_split(X_test, y_test, test_size=0.5, random_state=42)"
   ]
  },
  {
   "cell_type": "code",
   "execution_count": 277,
   "metadata": {},
   "outputs": [
    {
     "name": "stdout",
     "output_type": "stream",
     "text": [
      "(1022, 10)\n",
      "(1022,)\n",
      "(219, 10)\n",
      "(219,)\n",
      "(219, 10)\n",
      "(219,)\n"
     ]
    },
    {
     "data": {
      "text/plain": [
       "(None, None)"
      ]
     },
     "execution_count": 277,
     "metadata": {},
     "output_type": "execute_result"
    }
   ],
   "source": [
    "print(X_train.shape), print(y_train.shape)\n",
    "print(X_val.shape), print(y_val.shape)\n",
    "print(X_test.shape), print(y_test.shape)"
   ]
  },
  {
   "attachments": {},
   "cell_type": "markdown",
   "metadata": {},
   "source": [
    "Feature scaling will help us see all the variables from the same scale, it will also help our models learn faster"
   ]
  },
  {
   "cell_type": "code",
   "execution_count": 279,
   "metadata": {},
   "outputs": [],
   "source": [
    "# scaling\n",
    "from sklearn.preprocessing import StandardScaler\n",
    "\n",
    "scaler = StandardScaler()\n",
    "X_train = scaler.fit_transform(X_train)\n",
    "X_val = scaler.transform(X_val)\n",
    "X_test = scaler.transform(X_test)\n"
   ]
  },
  {
   "attachments": {},
   "cell_type": "markdown",
   "metadata": {},
   "source": [
    "## Define Keras Model."
   ]
  },
  {
   "attachments": {
    "ex_rnn_keras.PNG": {
     "image/png": "[encoded data removed]"
    }
   },
   "cell_type": "markdown",
   "metadata": {},
   "source": [
    "The first thing we have to do is to set up the architecture. Let’s first think about what kind of neural network architecture we want. Suppose we want this neural network:\n",
    "![ex_rnn_keras.PNG](attachment:ex_rnn_keras.PNG)\n",
    "In words, we want to have these layers:\n",
    "\n",
    "- Hidden layer 1: 12 neurons, ReLU activation\n",
    "- Hidden layer 2: 16 neurons, ReLU activation\n",
    "- Output Layer: 1 neuron, Sigmoid activation\n",
    "    \n",
    "Now, we need to describe this architecture to Keras. We will be using the Sequential model, which means that we merely need to describe the layers above in sequence."
   ]
  },
  {
   "cell_type": "code",
   "execution_count": 280,
   "metadata": {},
   "outputs": [],
   "source": [
    "# Dependencies\n",
    "import keras\n",
    "from keras.models import Sequential\n",
    "from keras.layers import Dense\n",
    "\n",
    "# define model\n",
    "model=Sequential()\n",
    "\n",
    "model.add(Dense(12, input_dim=10, activation='relu')) # Hidden layer 1: 12 neurons, ReLU activation\n",
    "model.add(Dense(16, activation='relu')) #Hidden layer 2: 16 neurons, ReLU activation\n",
    "model.add(Dense(1, activation='sigmoid')) # oOutput Layer: 1 neuron, Sigmoid activation (binary classification)"
   ]
  },
  {
   "attachments": {},
   "cell_type": "markdown",
   "metadata": {},
   "source": [
    "Now that the model is defined, we can compile it.\n",
    "\n",
    "Compiling the model uses TensorFlow that chooses the best way to represent the network for training and making predictions to run on your hardware, such as CPU or GPU or even distributed."
   ]
  },
  {
   "cell_type": "code",
   "execution_count": 281,
   "metadata": {},
   "outputs": [],
   "source": [
    "# compile model\n",
    "model.compile(loss='mean_squared_error', optimizer='sgd', metrics=['accuracy'])"
   ]
  },
  {
   "attachments": {},
   "cell_type": "markdown",
   "metadata": {},
   "source": [
    "We have defined our model and compiled it ready for efficient computation.\n",
    "\n",
    "Now it is time to execute the model on some data (use 100 iterations and 32 batch size)."
   ]
  },
  {
   "cell_type": "code",
   "execution_count": 282,
   "metadata": {},
   "outputs": [
    {
     "name": "stdout",
     "output_type": "stream",
     "text": [
      "Epoch 1/100\n"
     ]
    },
    {
     "name": "stdout",
     "output_type": "stream",
     "text": [
      "32/32 [==============================] - 1s 4ms/step - loss: 0.2433 - accuracy: 0.5313\n",
      "Epoch 2/100\n",
      "32/32 [==============================] - 0s 4ms/step - loss: 0.2316 - accuracy: 0.5900\n",
      "Epoch 3/100\n",
      "32/32 [==============================] - 0s 4ms/step - loss: 0.2213 - accuracy: 0.6497\n",
      "Epoch 4/100\n",
      "32/32 [==============================] - 0s 4ms/step - loss: 0.2120 - accuracy: 0.6996\n",
      "Epoch 5/100\n",
      "32/32 [==============================] - 0s 4ms/step - loss: 0.2036 - accuracy: 0.7348\n",
      "Epoch 6/100\n",
      "32/32 [==============================] - 0s 4ms/step - loss: 0.1959 - accuracy: 0.7701\n",
      "Epoch 7/100\n",
      "32/32 [==============================] - 0s 4ms/step - loss: 0.1887 - accuracy: 0.7867\n",
      "Epoch 8/100\n",
      "32/32 [==============================] - 0s 4ms/step - loss: 0.1819 - accuracy: 0.8033\n",
      "Epoch 9/100\n",
      "32/32 [==============================] - 0s 4ms/step - loss: 0.1755 - accuracy: 0.8121\n",
      "Epoch 10/100\n",
      "32/32 [==============================] - 0s 4ms/step - loss: 0.1694 - accuracy: 0.8190\n",
      "Epoch 11/100\n",
      "32/32 [==============================] - 0s 4ms/step - loss: 0.1637 - accuracy: 0.8278\n",
      "Epoch 12/100\n",
      "32/32 [==============================] - 0s 4ms/step - loss: 0.1584 - accuracy: 0.8297\n",
      "Epoch 13/100\n",
      "32/32 [==============================] - 0s 4ms/step - loss: 0.1534 - accuracy: 0.8317\n",
      "Epoch 14/100\n",
      "32/32 [==============================] - 0s 4ms/step - loss: 0.1486 - accuracy: 0.8376\n",
      "Epoch 15/100\n",
      "32/32 [==============================] - 0s 4ms/step - loss: 0.1442 - accuracy: 0.8444\n",
      "Epoch 16/100\n",
      "32/32 [==============================] - 0s 4ms/step - loss: 0.1400 - accuracy: 0.8444\n",
      "Epoch 17/100\n",
      "32/32 [==============================] - 0s 5ms/step - loss: 0.1362 - accuracy: 0.8464\n",
      "Epoch 18/100\n",
      "32/32 [==============================] - 0s 4ms/step - loss: 0.1326 - accuracy: 0.8493\n",
      "Epoch 19/100\n",
      "32/32 [==============================] - 0s 4ms/step - loss: 0.1292 - accuracy: 0.8493\n",
      "Epoch 20/100\n",
      "32/32 [==============================] - 0s 4ms/step - loss: 0.1260 - accuracy: 0.8503\n",
      "Epoch 21/100\n",
      "32/32 [==============================] - 0s 4ms/step - loss: 0.1231 - accuracy: 0.8513\n",
      "Epoch 22/100\n",
      "32/32 [==============================] - 0s 4ms/step - loss: 0.1203 - accuracy: 0.8552\n",
      "Epoch 23/100\n",
      "32/32 [==============================] - 0s 4ms/step - loss: 0.1178 - accuracy: 0.8552\n",
      "Epoch 24/100\n",
      "32/32 [==============================] - 0s 4ms/step - loss: 0.1155 - accuracy: 0.8562\n",
      "Epoch 25/100\n",
      "32/32 [==============================] - 0s 4ms/step - loss: 0.1133 - accuracy: 0.8591\n",
      "Epoch 26/100\n",
      "32/32 [==============================] - 0s 4ms/step - loss: 0.1113 - accuracy: 0.8562\n",
      "Epoch 27/100\n",
      "32/32 [==============================] - 0s 4ms/step - loss: 0.1094 - accuracy: 0.8591\n",
      "Epoch 28/100\n",
      "32/32 [==============================] - 0s 4ms/step - loss: 0.1076 - accuracy: 0.8620\n",
      "Epoch 29/100\n",
      "32/32 [==============================] - 0s 4ms/step - loss: 0.1060 - accuracy: 0.8650\n",
      "Epoch 30/100\n",
      "32/32 [==============================] - 0s 4ms/step - loss: 0.1045 - accuracy: 0.8650\n",
      "Epoch 31/100\n",
      "32/32 [==============================] - 0s 4ms/step - loss: 0.1032 - accuracy: 0.8640\n",
      "Epoch 32/100\n",
      "32/32 [==============================] - 0s 4ms/step - loss: 0.1019 - accuracy: 0.8640\n",
      "Epoch 33/100\n",
      "32/32 [==============================] - 0s 4ms/step - loss: 0.1008 - accuracy: 0.8640\n",
      "Epoch 34/100\n",
      "32/32 [==============================] - 0s 5ms/step - loss: 0.0997 - accuracy: 0.8650\n",
      "Epoch 35/100\n",
      "32/32 [==============================] - 0s 4ms/step - loss: 0.0987 - accuracy: 0.8640\n",
      "Epoch 36/100\n",
      "32/32 [==============================] - 0s 4ms/step - loss: 0.0977 - accuracy: 0.8659\n",
      "Epoch 37/100\n",
      "32/32 [==============================] - 0s 4ms/step - loss: 0.0969 - accuracy: 0.8669\n",
      "Epoch 38/100\n",
      "32/32 [==============================] - 0s 4ms/step - loss: 0.0960 - accuracy: 0.8669\n",
      "Epoch 39/100\n",
      "32/32 [==============================] - 0s 4ms/step - loss: 0.0953 - accuracy: 0.8669\n",
      "Epoch 40/100\n",
      "32/32 [==============================] - 0s 4ms/step - loss: 0.0945 - accuracy: 0.8679\n",
      "Epoch 41/100\n",
      "32/32 [==============================] - 0s 4ms/step - loss: 0.0939 - accuracy: 0.8689\n",
      "Epoch 42/100\n",
      "32/32 [==============================] - 0s 4ms/step - loss: 0.0932 - accuracy: 0.8699\n",
      "Epoch 43/100\n",
      "32/32 [==============================] - 0s 4ms/step - loss: 0.0926 - accuracy: 0.8699\n",
      "Epoch 44/100\n",
      "32/32 [==============================] - 0s 4ms/step - loss: 0.0920 - accuracy: 0.8699\n",
      "Epoch 45/100\n",
      "32/32 [==============================] - 0s 4ms/step - loss: 0.0915 - accuracy: 0.8708\n",
      "Epoch 46/100\n",
      "32/32 [==============================] - 0s 4ms/step - loss: 0.0909 - accuracy: 0.8718\n",
      "Epoch 47/100\n",
      "32/32 [==============================] - 0s 4ms/step - loss: 0.0904 - accuracy: 0.8718\n",
      "Epoch 48/100\n",
      "32/32 [==============================] - 0s 4ms/step - loss: 0.0900 - accuracy: 0.8728\n",
      "Epoch 49/100\n",
      "32/32 [==============================] - 0s 4ms/step - loss: 0.0895 - accuracy: 0.8738\n",
      "Epoch 50/100\n",
      "32/32 [==============================] - 0s 4ms/step - loss: 0.0891 - accuracy: 0.8718\n",
      "Epoch 51/100\n",
      "32/32 [==============================] - 0s 5ms/step - loss: 0.0887 - accuracy: 0.8748\n",
      "Epoch 52/100\n",
      "32/32 [==============================] - 0s 4ms/step - loss: 0.0883 - accuracy: 0.8748\n",
      "Epoch 53/100\n",
      "32/32 [==============================] - 0s 4ms/step - loss: 0.0879 - accuracy: 0.8748\n",
      "Epoch 54/100\n",
      "32/32 [==============================] - 0s 4ms/step - loss: 0.0875 - accuracy: 0.8767\n",
      "Epoch 55/100\n",
      "32/32 [==============================] - 0s 4ms/step - loss: 0.0872 - accuracy: 0.8767\n",
      "Epoch 56/100\n",
      "32/32 [==============================] - 0s 4ms/step - loss: 0.0868 - accuracy: 0.8777\n",
      "Epoch 57/100\n",
      "32/32 [==============================] - 0s 4ms/step - loss: 0.0865 - accuracy: 0.8777\n",
      "Epoch 58/100\n",
      "32/32 [==============================] - 0s 4ms/step - loss: 0.0861 - accuracy: 0.8787\n",
      "Epoch 59/100\n",
      "32/32 [==============================] - 0s 4ms/step - loss: 0.0858 - accuracy: 0.8796\n",
      "Epoch 60/100\n",
      "32/32 [==============================] - 0s 4ms/step - loss: 0.0855 - accuracy: 0.8806\n",
      "Epoch 61/100\n",
      "32/32 [==============================] - 0s 4ms/step - loss: 0.0852 - accuracy: 0.8816\n",
      "Epoch 62/100\n",
      "32/32 [==============================] - 0s 4ms/step - loss: 0.0849 - accuracy: 0.8816\n",
      "Epoch 63/100\n",
      "32/32 [==============================] - 0s 4ms/step - loss: 0.0847 - accuracy: 0.8816\n",
      "Epoch 64/100\n",
      "32/32 [==============================] - 0s 4ms/step - loss: 0.0844 - accuracy: 0.8816\n",
      "Epoch 65/100\n",
      "32/32 [==============================] - 0s 4ms/step - loss: 0.0841 - accuracy: 0.8826\n",
      "Epoch 66/100\n",
      "32/32 [==============================] - 0s 4ms/step - loss: 0.0839 - accuracy: 0.8826\n",
      "Epoch 67/100\n",
      "32/32 [==============================] - 0s 4ms/step - loss: 0.0836 - accuracy: 0.8836\n",
      "Epoch 68/100\n",
      "32/32 [==============================] - 0s 4ms/step - loss: 0.0834 - accuracy: 0.8836\n",
      "Epoch 69/100\n",
      "32/32 [==============================] - 0s 4ms/step - loss: 0.0832 - accuracy: 0.8836\n",
      "Epoch 70/100\n",
      "32/32 [==============================] - 0s 4ms/step - loss: 0.0829 - accuracy: 0.8836\n",
      "Epoch 71/100\n",
      "32/32 [==============================] - 0s 4ms/step - loss: 0.0827 - accuracy: 0.8845\n",
      "Epoch 72/100\n",
      "32/32 [==============================] - 0s 4ms/step - loss: 0.0825 - accuracy: 0.8855\n",
      "Epoch 73/100\n",
      "32/32 [==============================] - 0s 4ms/step - loss: 0.0823 - accuracy: 0.8855\n",
      "Epoch 74/100\n",
      "32/32 [==============================] - 0s 4ms/step - loss: 0.0821 - accuracy: 0.8855\n",
      "Epoch 75/100\n",
      "32/32 [==============================] - 0s 4ms/step - loss: 0.0819 - accuracy: 0.8855\n",
      "Epoch 76/100\n",
      "32/32 [==============================] - 0s 4ms/step - loss: 0.0818 - accuracy: 0.8845\n",
      "Epoch 77/100\n",
      "32/32 [==============================] - 0s 4ms/step - loss: 0.0816 - accuracy: 0.8855\n",
      "Epoch 78/100\n",
      "32/32 [==============================] - 0s 5ms/step - loss: 0.0814 - accuracy: 0.8875\n",
      "Epoch 79/100\n",
      "32/32 [==============================] - 0s 5ms/step - loss: 0.0812 - accuracy: 0.8875\n",
      "Epoch 80/100\n",
      "32/32 [==============================] - 0s 4ms/step - loss: 0.0811 - accuracy: 0.8865\n",
      "Epoch 81/100\n",
      "32/32 [==============================] - 0s 4ms/step - loss: 0.0809 - accuracy: 0.8855\n",
      "Epoch 82/100\n",
      "32/32 [==============================] - 0s 4ms/step - loss: 0.0807 - accuracy: 0.8855\n",
      "Epoch 83/100\n",
      "32/32 [==============================] - 0s 5ms/step - loss: 0.0806 - accuracy: 0.8855\n",
      "Epoch 84/100\n",
      "32/32 [==============================] - 0s 4ms/step - loss: 0.0804 - accuracy: 0.8855\n",
      "Epoch 85/100\n",
      "32/32 [==============================] - 0s 4ms/step - loss: 0.0803 - accuracy: 0.8865\n",
      "Epoch 86/100\n",
      "32/32 [==============================] - 0s 4ms/step - loss: 0.0802 - accuracy: 0.8875\n",
      "Epoch 87/100\n",
      "32/32 [==============================] - 0s 4ms/step - loss: 0.0800 - accuracy: 0.8875\n",
      "Epoch 88/100\n",
      "32/32 [==============================] - 0s 4ms/step - loss: 0.0799 - accuracy: 0.8875\n",
      "Epoch 89/100\n",
      "32/32 [==============================] - 0s 4ms/step - loss: 0.0797 - accuracy: 0.8875\n",
      "Epoch 90/100\n",
      "32/32 [==============================] - 0s 4ms/step - loss: 0.0796 - accuracy: 0.8885\n",
      "Epoch 91/100\n",
      "32/32 [==============================] - 0s 4ms/step - loss: 0.0795 - accuracy: 0.8875\n",
      "Epoch 92/100\n",
      "32/32 [==============================] - 0s 4ms/step - loss: 0.0794 - accuracy: 0.8885\n",
      "Epoch 93/100\n",
      "32/32 [==============================] - 0s 4ms/step - loss: 0.0792 - accuracy: 0.8875\n",
      "Epoch 94/100\n",
      "32/32 [==============================] - 0s 4ms/step - loss: 0.0791 - accuracy: 0.8885\n",
      "Epoch 95/100\n",
      "32/32 [==============================] - 0s 4ms/step - loss: 0.0790 - accuracy: 0.8885\n",
      "Epoch 96/100\n",
      "32/32 [==============================] - 0s 4ms/step - loss: 0.0788 - accuracy: 0.8875\n",
      "Epoch 97/100\n",
      "32/32 [==============================] - 0s 4ms/step - loss: 0.0787 - accuracy: 0.8875\n",
      "Epoch 98/100\n",
      "32/32 [==============================] - 0s 4ms/step - loss: 0.0786 - accuracy: 0.8875\n",
      "Epoch 99/100\n",
      "32/32 [==============================] - 0s 5ms/step - loss: 0.0785 - accuracy: 0.8885\n",
      "Epoch 100/100\n",
      "32/32 [==============================] - 0s 4ms/step - loss: 0.0783 - accuracy: 0.8885\n"
     ]
    },
    {
     "data": {
      "text/plain": [
       "<keras.src.callbacks.History at 0x7f518b1fee20>"
      ]
     },
     "execution_count": 282,
     "metadata": {},
     "output_type": "execute_result"
    }
   ],
   "source": [
    "# train model\n",
    "model.fit(X_train, y_train, epochs=100, batch_size=32)"
   ]
  },
  {
   "cell_type": "code",
   "execution_count": 283,
   "metadata": {},
   "outputs": [
    {
     "name": "stdout",
     "output_type": "stream",
     "text": [
      "7/7 [==============================] - 0s 2ms/step\n"
     ]
    }
   ],
   "source": [
    "pred = model.predict(X_val)\n",
    "rnd_pred = [round(pred[0]) for pred in pred]"
   ]
  },
  {
   "cell_type": "code",
   "execution_count": 284,
   "metadata": {},
   "outputs": [
    {
     "name": "stdout",
     "output_type": "stream",
     "text": [
      "Accuracy =: 91.78%\n"
     ]
    }
   ],
   "source": [
    "# calculate accuracy on validation set\n",
    "from sklearn.metrics import accuracy_score\n",
    "\n",
    "accuracy = accuracy_score(y_val, rnd_pred)\n",
    "print(f'Accuracy =: {accuracy * 100:.2f}%')"
   ]
  },
  {
   "attachments": {},
   "cell_type": "markdown",
   "metadata": {},
   "source": [
    "We have trained our model, which gives us a correct accuracy. But we haven't used our validation set properly, and our test set at all. Let's correct that."
   ]
  },
  {
   "cell_type": "code",
   "execution_count": 285,
   "metadata": {},
   "outputs": [
    {
     "name": "stdout",
     "output_type": "stream",
     "text": [
      "7/7 [==============================] - 0s 3ms/step\n",
      "Accuracy on the validation set: 91.78%\n"
     ]
    }
   ],
   "source": [
    "# train model\n",
    "\n",
    "predictions_val = model.predict(X_val)\n",
    "rounded_predictions_val = [round(pred[0]) for pred in predictions_val]\n",
    "\n",
    "accuracy_val = accuracy_score(y_val, rounded_predictions_val)\n",
    "print(f'Accuracy on the validation set: {accuracy_val * 100:.2f}%')\n"
   ]
  },
  {
   "cell_type": "code",
   "execution_count": 286,
   "metadata": {},
   "outputs": [
    {
     "name": "stdout",
     "output_type": "stream",
     "text": [
      "7/7 [==============================] - 0s 2ms/step\n",
      "Accuracy on the test set: 89.95%\n"
     ]
    }
   ],
   "source": [
    "# predict on TEST set\n",
    "predictions_test = model.predict(X_test)\n",
    "rounded_predictions_test = [round(pred[0]) for pred in predictions_test]\n",
    "\n",
    "\n",
    "# calculate accuracy on test set\n",
    "\n",
    "accuracy_test = accuracy_score(y_test, rounded_predictions_test)\n",
    "print(f'Accuracy on the test set: {accuracy_test * 100:.2f}%')"
   ]
  },
  {
   "attachments": {},
   "cell_type": "markdown",
   "metadata": {},
   "source": [
    "Visualize training and validation losses and accuracies plots with the help of keras"
   ]
  },
  {
   "cell_type": "code",
   "execution_count": 287,
   "metadata": {},
   "outputs": [
    {
     "name": "stdout",
     "output_type": "stream",
     "text": [
      "Epoch 1/100\n",
      " 1/32 [..............................] - ETA: 0s - loss: 0.0129 - accuracy: 1.0000"
     ]
    },
    {
     "name": "stdout",
     "output_type": "stream",
     "text": [
      "32/32 [==============================] - 0s 12ms/step - loss: 0.0782 - accuracy: 0.8885 - val_loss: 0.0644 - val_accuracy: 0.9178\n",
      "Epoch 2/100\n",
      "32/32 [==============================] - 0s 6ms/step - loss: 0.0781 - accuracy: 0.8885 - val_loss: 0.0643 - val_accuracy: 0.9178\n",
      "Epoch 3/100\n",
      "32/32 [==============================] - 0s 6ms/step - loss: 0.0780 - accuracy: 0.8885 - val_loss: 0.0642 - val_accuracy: 0.9178\n",
      "Epoch 4/100\n",
      "32/32 [==============================] - 0s 6ms/step - loss: 0.0779 - accuracy: 0.8885 - val_loss: 0.0641 - val_accuracy: 0.9178\n",
      "Epoch 5/100\n",
      "32/32 [==============================] - 0s 6ms/step - loss: 0.0778 - accuracy: 0.8885 - val_loss: 0.0641 - val_accuracy: 0.9178\n",
      "Epoch 6/100\n",
      "32/32 [==============================] - 0s 6ms/step - loss: 0.0776 - accuracy: 0.8885 - val_loss: 0.0640 - val_accuracy: 0.9178\n",
      "Epoch 7/100\n",
      "32/32 [==============================] - 0s 6ms/step - loss: 0.0775 - accuracy: 0.8885 - val_loss: 0.0639 - val_accuracy: 0.9178\n",
      "Epoch 8/100\n",
      "32/32 [==============================] - 0s 6ms/step - loss: 0.0774 - accuracy: 0.8875 - val_loss: 0.0638 - val_accuracy: 0.9178\n",
      "Epoch 9/100\n",
      "32/32 [==============================] - 0s 6ms/step - loss: 0.0773 - accuracy: 0.8875 - val_loss: 0.0637 - val_accuracy: 0.9178\n",
      "Epoch 10/100\n",
      "32/32 [==============================] - 0s 5ms/step - loss: 0.0772 - accuracy: 0.8875 - val_loss: 0.0636 - val_accuracy: 0.9178\n",
      "Epoch 11/100\n",
      "32/32 [==============================] - 0s 6ms/step - loss: 0.0771 - accuracy: 0.8885 - val_loss: 0.0635 - val_accuracy: 0.9178\n",
      "Epoch 12/100\n",
      "32/32 [==============================] - 0s 6ms/step - loss: 0.0770 - accuracy: 0.8885 - val_loss: 0.0634 - val_accuracy: 0.9178\n",
      "Epoch 13/100\n",
      "32/32 [==============================] - 0s 6ms/step - loss: 0.0769 - accuracy: 0.8885 - val_loss: 0.0633 - val_accuracy: 0.9178\n",
      "Epoch 14/100\n",
      "32/32 [==============================] - 0s 6ms/step - loss: 0.0768 - accuracy: 0.8885 - val_loss: 0.0633 - val_accuracy: 0.9178\n",
      "Epoch 15/100\n",
      "32/32 [==============================] - 0s 6ms/step - loss: 0.0767 - accuracy: 0.8885 - val_loss: 0.0632 - val_accuracy: 0.9178\n",
      "Epoch 16/100\n",
      "32/32 [==============================] - 0s 6ms/step - loss: 0.0766 - accuracy: 0.8885 - val_loss: 0.0631 - val_accuracy: 0.9178\n",
      "Epoch 17/100\n",
      "32/32 [==============================] - 0s 6ms/step - loss: 0.0765 - accuracy: 0.8885 - val_loss: 0.0630 - val_accuracy: 0.9178\n",
      "Epoch 18/100\n",
      "32/32 [==============================] - 0s 6ms/step - loss: 0.0764 - accuracy: 0.8885 - val_loss: 0.0629 - val_accuracy: 0.9178\n",
      "Epoch 19/100\n",
      "32/32 [==============================] - 0s 6ms/step - loss: 0.0763 - accuracy: 0.8885 - val_loss: 0.0629 - val_accuracy: 0.9178\n",
      "Epoch 20/100\n",
      "32/32 [==============================] - 0s 6ms/step - loss: 0.0762 - accuracy: 0.8885 - val_loss: 0.0628 - val_accuracy: 0.9178\n",
      "Epoch 21/100\n",
      "32/32 [==============================] - 0s 6ms/step - loss: 0.0762 - accuracy: 0.8885 - val_loss: 0.0627 - val_accuracy: 0.9178\n",
      "Epoch 22/100\n",
      "32/32 [==============================] - 0s 6ms/step - loss: 0.0761 - accuracy: 0.8885 - val_loss: 0.0626 - val_accuracy: 0.9178\n",
      "Epoch 23/100\n",
      "32/32 [==============================] - 0s 6ms/step - loss: 0.0760 - accuracy: 0.8885 - val_loss: 0.0626 - val_accuracy: 0.9178\n",
      "Epoch 24/100\n",
      "32/32 [==============================] - 0s 6ms/step - loss: 0.0759 - accuracy: 0.8885 - val_loss: 0.0625 - val_accuracy: 0.9178\n",
      "Epoch 25/100\n",
      "32/32 [==============================] - 0s 6ms/step - loss: 0.0758 - accuracy: 0.8885 - val_loss: 0.0624 - val_accuracy: 0.9178\n",
      "Epoch 26/100\n",
      "32/32 [==============================] - 0s 7ms/step - loss: 0.0757 - accuracy: 0.8875 - val_loss: 0.0623 - val_accuracy: 0.9178\n",
      "Epoch 27/100\n",
      "32/32 [==============================] - 0s 5ms/step - loss: 0.0756 - accuracy: 0.8875 - val_loss: 0.0623 - val_accuracy: 0.9178\n",
      "Epoch 28/100\n",
      "32/32 [==============================] - 0s 6ms/step - loss: 0.0756 - accuracy: 0.8875 - val_loss: 0.0622 - val_accuracy: 0.9224\n",
      "Epoch 29/100\n",
      "32/32 [==============================] - 0s 6ms/step - loss: 0.0755 - accuracy: 0.8885 - val_loss: 0.0621 - val_accuracy: 0.9224\n",
      "Epoch 30/100\n",
      "32/32 [==============================] - 0s 6ms/step - loss: 0.0754 - accuracy: 0.8885 - val_loss: 0.0621 - val_accuracy: 0.9224\n",
      "Epoch 31/100\n",
      "32/32 [==============================] - 0s 6ms/step - loss: 0.0753 - accuracy: 0.8885 - val_loss: 0.0620 - val_accuracy: 0.9224\n",
      "Epoch 32/100\n",
      "32/32 [==============================] - 0s 6ms/step - loss: 0.0753 - accuracy: 0.8885 - val_loss: 0.0620 - val_accuracy: 0.9224\n",
      "Epoch 33/100\n",
      "32/32 [==============================] - 0s 6ms/step - loss: 0.0752 - accuracy: 0.8885 - val_loss: 0.0619 - val_accuracy: 0.9269\n",
      "Epoch 34/100\n",
      "32/32 [==============================] - 0s 6ms/step - loss: 0.0751 - accuracy: 0.8885 - val_loss: 0.0618 - val_accuracy: 0.9269\n",
      "Epoch 35/100\n",
      "32/32 [==============================] - 0s 6ms/step - loss: 0.0750 - accuracy: 0.8885 - val_loss: 0.0618 - val_accuracy: 0.9269\n",
      "Epoch 36/100\n",
      "32/32 [==============================] - 0s 6ms/step - loss: 0.0750 - accuracy: 0.8875 - val_loss: 0.0617 - val_accuracy: 0.9269\n",
      "Epoch 37/100\n",
      "32/32 [==============================] - 0s 6ms/step - loss: 0.0749 - accuracy: 0.8875 - val_loss: 0.0617 - val_accuracy: 0.9269\n",
      "Epoch 38/100\n",
      "32/32 [==============================] - 0s 6ms/step - loss: 0.0748 - accuracy: 0.8875 - val_loss: 0.0616 - val_accuracy: 0.9269\n",
      "Epoch 39/100\n",
      "32/32 [==============================] - 0s 6ms/step - loss: 0.0748 - accuracy: 0.8875 - val_loss: 0.0616 - val_accuracy: 0.9269\n",
      "Epoch 40/100\n",
      "32/32 [==============================] - 0s 6ms/step - loss: 0.0747 - accuracy: 0.8875 - val_loss: 0.0615 - val_accuracy: 0.9269\n",
      "Epoch 41/100\n",
      "32/32 [==============================] - 0s 6ms/step - loss: 0.0746 - accuracy: 0.8875 - val_loss: 0.0615 - val_accuracy: 0.9269\n",
      "Epoch 42/100\n",
      "32/32 [==============================] - 0s 6ms/step - loss: 0.0745 - accuracy: 0.8885 - val_loss: 0.0614 - val_accuracy: 0.9269\n",
      "Epoch 43/100\n",
      "32/32 [==============================] - 0s 5ms/step - loss: 0.0745 - accuracy: 0.8885 - val_loss: 0.0614 - val_accuracy: 0.9269\n",
      "Epoch 44/100\n",
      "32/32 [==============================] - 0s 6ms/step - loss: 0.0744 - accuracy: 0.8904 - val_loss: 0.0613 - val_accuracy: 0.9269\n",
      "Epoch 45/100\n",
      "32/32 [==============================] - 0s 6ms/step - loss: 0.0743 - accuracy: 0.8904 - val_loss: 0.0613 - val_accuracy: 0.9269\n",
      "Epoch 46/100\n",
      "32/32 [==============================] - 0s 6ms/step - loss: 0.0743 - accuracy: 0.8904 - val_loss: 0.0612 - val_accuracy: 0.9269\n",
      "Epoch 47/100\n",
      "32/32 [==============================] - 0s 6ms/step - loss: 0.0742 - accuracy: 0.8904 - val_loss: 0.0612 - val_accuracy: 0.9269\n",
      "Epoch 48/100\n",
      "32/32 [==============================] - 0s 6ms/step - loss: 0.0742 - accuracy: 0.8904 - val_loss: 0.0611 - val_accuracy: 0.9269\n",
      "Epoch 49/100\n",
      "32/32 [==============================] - 0s 6ms/step - loss: 0.0741 - accuracy: 0.8904 - val_loss: 0.0611 - val_accuracy: 0.9269\n",
      "Epoch 50/100\n",
      "32/32 [==============================] - 0s 6ms/step - loss: 0.0740 - accuracy: 0.8914 - val_loss: 0.0610 - val_accuracy: 0.9269\n",
      "Epoch 51/100\n",
      "32/32 [==============================] - 0s 7ms/step - loss: 0.0740 - accuracy: 0.8914 - val_loss: 0.0610 - val_accuracy: 0.9269\n",
      "Epoch 52/100\n",
      "32/32 [==============================] - 0s 6ms/step - loss: 0.0739 - accuracy: 0.8904 - val_loss: 0.0610 - val_accuracy: 0.9269\n",
      "Epoch 53/100\n",
      "32/32 [==============================] - 0s 6ms/step - loss: 0.0739 - accuracy: 0.8914 - val_loss: 0.0609 - val_accuracy: 0.9269\n",
      "Epoch 54/100\n",
      "32/32 [==============================] - 0s 6ms/step - loss: 0.0738 - accuracy: 0.8904 - val_loss: 0.0609 - val_accuracy: 0.9269\n",
      "Epoch 55/100\n",
      "32/32 [==============================] - 0s 6ms/step - loss: 0.0737 - accuracy: 0.8933 - val_loss: 0.0608 - val_accuracy: 0.9269\n",
      "Epoch 56/100\n",
      "32/32 [==============================] - 0s 6ms/step - loss: 0.0737 - accuracy: 0.8933 - val_loss: 0.0608 - val_accuracy: 0.9269\n",
      "Epoch 57/100\n",
      "32/32 [==============================] - 0s 6ms/step - loss: 0.0736 - accuracy: 0.8924 - val_loss: 0.0607 - val_accuracy: 0.9269\n",
      "Epoch 58/100\n",
      "32/32 [==============================] - 0s 6ms/step - loss: 0.0736 - accuracy: 0.8933 - val_loss: 0.0607 - val_accuracy: 0.9269\n",
      "Epoch 59/100\n",
      "32/32 [==============================] - 0s 6ms/step - loss: 0.0735 - accuracy: 0.8933 - val_loss: 0.0607 - val_accuracy: 0.9269\n",
      "Epoch 60/100\n",
      "32/32 [==============================] - 0s 6ms/step - loss: 0.0735 - accuracy: 0.8924 - val_loss: 0.0606 - val_accuracy: 0.9269\n",
      "Epoch 61/100\n",
      "32/32 [==============================] - 0s 6ms/step - loss: 0.0734 - accuracy: 0.8933 - val_loss: 0.0606 - val_accuracy: 0.9315\n",
      "Epoch 62/100\n",
      "32/32 [==============================] - 0s 6ms/step - loss: 0.0734 - accuracy: 0.8924 - val_loss: 0.0605 - val_accuracy: 0.9315\n",
      "Epoch 63/100\n",
      "32/32 [==============================] - 0s 7ms/step - loss: 0.0733 - accuracy: 0.8924 - val_loss: 0.0605 - val_accuracy: 0.9315\n",
      "Epoch 64/100\n",
      "32/32 [==============================] - 0s 6ms/step - loss: 0.0733 - accuracy: 0.8914 - val_loss: 0.0605 - val_accuracy: 0.9315\n",
      "Epoch 65/100\n",
      "32/32 [==============================] - 0s 6ms/step - loss: 0.0732 - accuracy: 0.8914 - val_loss: 0.0604 - val_accuracy: 0.9315\n",
      "Epoch 66/100\n",
      "32/32 [==============================] - 0s 6ms/step - loss: 0.0731 - accuracy: 0.8924 - val_loss: 0.0604 - val_accuracy: 0.9315\n",
      "Epoch 67/100\n",
      "32/32 [==============================] - 0s 6ms/step - loss: 0.0731 - accuracy: 0.8914 - val_loss: 0.0604 - val_accuracy: 0.9315\n",
      "Epoch 68/100\n",
      "32/32 [==============================] - 0s 6ms/step - loss: 0.0730 - accuracy: 0.8924 - val_loss: 0.0603 - val_accuracy: 0.9315\n",
      "Epoch 69/100\n",
      "32/32 [==============================] - 0s 6ms/step - loss: 0.0730 - accuracy: 0.8924 - val_loss: 0.0603 - val_accuracy: 0.9315\n",
      "Epoch 70/100\n",
      "32/32 [==============================] - 0s 6ms/step - loss: 0.0729 - accuracy: 0.8943 - val_loss: 0.0602 - val_accuracy: 0.9315\n",
      "Epoch 71/100\n",
      "32/32 [==============================] - 0s 6ms/step - loss: 0.0729 - accuracy: 0.8914 - val_loss: 0.0602 - val_accuracy: 0.9315\n",
      "Epoch 72/100\n",
      "32/32 [==============================] - 0s 6ms/step - loss: 0.0728 - accuracy: 0.8953 - val_loss: 0.0602 - val_accuracy: 0.9315\n",
      "Epoch 73/100\n",
      "32/32 [==============================] - 0s 6ms/step - loss: 0.0728 - accuracy: 0.8943 - val_loss: 0.0601 - val_accuracy: 0.9315\n",
      "Epoch 74/100\n",
      "32/32 [==============================] - 0s 6ms/step - loss: 0.0727 - accuracy: 0.8933 - val_loss: 0.0601 - val_accuracy: 0.9315\n",
      "Epoch 75/100\n",
      "32/32 [==============================] - 0s 6ms/step - loss: 0.0727 - accuracy: 0.8953 - val_loss: 0.0601 - val_accuracy: 0.9315\n",
      "Epoch 76/100\n",
      "32/32 [==============================] - 0s 6ms/step - loss: 0.0726 - accuracy: 0.8953 - val_loss: 0.0600 - val_accuracy: 0.9315\n",
      "Epoch 77/100\n",
      "32/32 [==============================] - 0s 7ms/step - loss: 0.0726 - accuracy: 0.8953 - val_loss: 0.0600 - val_accuracy: 0.9315\n",
      "Epoch 78/100\n",
      "32/32 [==============================] - 0s 6ms/step - loss: 0.0725 - accuracy: 0.8953 - val_loss: 0.0599 - val_accuracy: 0.9315\n",
      "Epoch 79/100\n",
      "32/32 [==============================] - 0s 6ms/step - loss: 0.0725 - accuracy: 0.8953 - val_loss: 0.0599 - val_accuracy: 0.9315\n",
      "Epoch 80/100\n",
      "32/32 [==============================] - 0s 6ms/step - loss: 0.0724 - accuracy: 0.8953 - val_loss: 0.0599 - val_accuracy: 0.9315\n",
      "Epoch 81/100\n",
      "32/32 [==============================] - 0s 6ms/step - loss: 0.0724 - accuracy: 0.8953 - val_loss: 0.0598 - val_accuracy: 0.9315\n",
      "Epoch 82/100\n",
      "32/32 [==============================] - 0s 6ms/step - loss: 0.0723 - accuracy: 0.8953 - val_loss: 0.0598 - val_accuracy: 0.9315\n",
      "Epoch 83/100\n",
      "32/32 [==============================] - 0s 6ms/step - loss: 0.0723 - accuracy: 0.8953 - val_loss: 0.0597 - val_accuracy: 0.9315\n",
      "Epoch 84/100\n",
      "32/32 [==============================] - 0s 6ms/step - loss: 0.0722 - accuracy: 0.8953 - val_loss: 0.0597 - val_accuracy: 0.9315\n",
      "Epoch 85/100\n",
      "32/32 [==============================] - 0s 6ms/step - loss: 0.0722 - accuracy: 0.8953 - val_loss: 0.0597 - val_accuracy: 0.9315\n",
      "Epoch 86/100\n",
      "32/32 [==============================] - 0s 6ms/step - loss: 0.0721 - accuracy: 0.8973 - val_loss: 0.0596 - val_accuracy: 0.9315\n",
      "Epoch 87/100\n",
      "32/32 [==============================] - 0s 6ms/step - loss: 0.0721 - accuracy: 0.8973 - val_loss: 0.0596 - val_accuracy: 0.9315\n",
      "Epoch 88/100\n",
      "32/32 [==============================] - 0s 6ms/step - loss: 0.0720 - accuracy: 0.8982 - val_loss: 0.0595 - val_accuracy: 0.9315\n",
      "Epoch 89/100\n",
      "32/32 [==============================] - 0s 6ms/step - loss: 0.0720 - accuracy: 0.8982 - val_loss: 0.0595 - val_accuracy: 0.9315\n",
      "Epoch 90/100\n",
      "32/32 [==============================] - 0s 6ms/step - loss: 0.0719 - accuracy: 0.8982 - val_loss: 0.0594 - val_accuracy: 0.9315\n",
      "Epoch 91/100\n",
      "32/32 [==============================] - 0s 7ms/step - loss: 0.0719 - accuracy: 0.8973 - val_loss: 0.0594 - val_accuracy: 0.9315\n",
      "Epoch 92/100\n",
      "32/32 [==============================] - 0s 6ms/step - loss: 0.0718 - accuracy: 0.8982 - val_loss: 0.0594 - val_accuracy: 0.9315\n",
      "Epoch 93/100\n",
      "32/32 [==============================] - 0s 6ms/step - loss: 0.0718 - accuracy: 0.8982 - val_loss: 0.0593 - val_accuracy: 0.9315\n",
      "Epoch 94/100\n",
      "32/32 [==============================] - 0s 6ms/step - loss: 0.0718 - accuracy: 0.8982 - val_loss: 0.0593 - val_accuracy: 0.9315\n",
      "Epoch 95/100\n",
      "32/32 [==============================] - 0s 6ms/step - loss: 0.0717 - accuracy: 0.8982 - val_loss: 0.0592 - val_accuracy: 0.9315\n",
      "Epoch 96/100\n",
      "32/32 [==============================] - 0s 6ms/step - loss: 0.0717 - accuracy: 0.8982 - val_loss: 0.0592 - val_accuracy: 0.9361\n",
      "Epoch 97/100\n",
      "32/32 [==============================] - 0s 6ms/step - loss: 0.0716 - accuracy: 0.8982 - val_loss: 0.0591 - val_accuracy: 0.9361\n",
      "Epoch 98/100\n",
      "32/32 [==============================] - 0s 6ms/step - loss: 0.0716 - accuracy: 0.8982 - val_loss: 0.0591 - val_accuracy: 0.9361\n",
      "Epoch 99/100\n",
      "32/32 [==============================] - 0s 6ms/step - loss: 0.0715 - accuracy: 0.8982 - val_loss: 0.0591 - val_accuracy: 0.9361\n",
      "Epoch 100/100\n",
      "32/32 [==============================] - 0s 6ms/step - loss: 0.0715 - accuracy: 0.8982 - val_loss: 0.0590 - val_accuracy: 0.9361\n"
     ]
    }
   ],
   "source": [
    "# visualize training and validation accuracies\n",
    "\n",
    "import matplotlib.pyplot as plt\n",
    "\n",
    "\n",
    "history = model.fit(X_train, y_train, epochs=100, batch_size=32, validation_data=(X_val, y_val))\n"
   ]
  },
  {
   "cell_type": "code",
   "execution_count": 288,
   "metadata": {},
   "outputs": [
    {
     "data": {
      "image/png": "[encoded data removed]",
      "text/plain": [
       "<Figure size 800x500 with 1 Axes>"
      ]
     },
     "metadata": {},
     "output_type": "display_data"
    }
   ],
   "source": [
    "\n",
    "plt.figure(figsize=(8, 5))\n",
    "\n",
    "plt.plot(history.history['accuracy'], label='Training Accuracy')\n",
    "plt.plot(history.history['val_accuracy'], label='Validation Accuracy')\n",
    "\n",
    "plt.title('Training and Validation Accuracy')\n",
    "plt.xlabel('Epochs')\n",
    "plt.ylabel('Accuracy')\n",
    "plt.legend()\n",
    "plt.show()\n"
   ]
  },
  {
   "cell_type": "code",
   "execution_count": 289,
   "metadata": {},
   "outputs": [
    {
     "data": {
      "image/png": "[encoded data removed]",
      "text/plain": [
       "<Figure size 800x500 with 1 Axes>"
      ]
     },
     "metadata": {},
     "output_type": "display_data"
    }
   ],
   "source": [
    "# visualize training and validation losses\n",
    "plt.figure(figsize=(8, 5))\n",
    "\n",
    "\n",
    "plt.plot(history.history['loss'], label='Training Loss')\n",
    "plt.plot(history.history['val_loss'], label='Validation Loss')\n",
    "\n",
    "plt.title('Training and Validation Loss')\n",
    "plt.xlabel('Epochs')\n",
    "plt.ylabel('Loss')\n",
    "plt.legend()\n",
    "plt.show()"
   ]
  },
  {
   "attachments": {},
   "cell_type": "markdown",
   "metadata": {},
   "source": [
    "We have trained our neural network on the entire dataset and we can evaluate the performance of the network on the same dataset. A list of most hyperparameters available keras: "
   ]
  },
  {
   "attachments": {},
   "cell_type": "markdown",
   "metadata": {},
   "source": [
    "https://keras.io/api/layers/initializers/\n",
    "\n",
    "https://keras.io/api/layers/activations/\n",
    "\n",
    "https://keras.io/api/losses/\n",
    "\n",
    "https://keras.io/api/optimizers/"
   ]
  },
  {
   "cell_type": "code",
   "execution_count": 290,
   "metadata": {},
   "outputs": [
    {
     "name": "stdout",
     "output_type": "stream",
     "text": [
      "Epoch 1/100\n",
      "32/32 [==============================] - 1s 12ms/step - loss: 0.2590 - accuracy: 0.4902 - val_loss: 0.2551 - val_accuracy: 0.5297\n",
      "Epoch 2/100\n",
      "32/32 [==============================] - 0s 6ms/step - loss: 0.2379 - accuracy: 0.5812 - val_loss: 0.2330 - val_accuracy: 0.6256\n",
      "Epoch 3/100\n",
      "32/32 [==============================] - 0s 6ms/step - loss: 0.2202 - accuracy: 0.6673 - val_loss: 0.2143 - val_accuracy: 0.6758\n",
      "Epoch 4/100\n",
      "32/32 [==============================] - 0s 6ms/step - loss: 0.2054 - accuracy: 0.7270 - val_loss: 0.1983 - val_accuracy: 0.7352\n",
      "Epoch 5/100\n",
      "32/32 [==============================] - 0s 6ms/step - loss: 0.1927 - accuracy: 0.7573 - val_loss: 0.1846 - val_accuracy: 0.7717\n",
      "Epoch 6/100\n",
      "32/32 [==============================] - 0s 6ms/step - loss: 0.1816 - accuracy: 0.7906 - val_loss: 0.1727 - val_accuracy: 0.8128\n",
      "Epoch 7/100\n",
      "32/32 [==============================] - 0s 6ms/step - loss: 0.1720 - accuracy: 0.8200 - val_loss: 0.1624 - val_accuracy: 0.8493\n",
      "Epoch 8/100\n",
      "32/32 [==============================] - 0s 6ms/step - loss: 0.1636 - accuracy: 0.8278 - val_loss: 0.1533 - val_accuracy: 0.8584\n",
      "Epoch 9/100\n",
      "32/32 [==============================] - 0s 6ms/step - loss: 0.1562 - accuracy: 0.8376 - val_loss: 0.1453 - val_accuracy: 0.8767\n",
      "Epoch 10/100\n",
      "32/32 [==============================] - 0s 6ms/step - loss: 0.1496 - accuracy: 0.8493 - val_loss: 0.1383 - val_accuracy: 0.8767\n",
      "Epoch 11/100\n",
      "32/32 [==============================] - 0s 6ms/step - loss: 0.1438 - accuracy: 0.8571 - val_loss: 0.1320 - val_accuracy: 0.8858\n",
      "Epoch 12/100\n",
      "32/32 [==============================] - 0s 6ms/step - loss: 0.1386 - accuracy: 0.8620 - val_loss: 0.1264 - val_accuracy: 0.8904\n",
      "Epoch 13/100\n",
      "32/32 [==============================] - 0s 6ms/step - loss: 0.1340 - accuracy: 0.8630 - val_loss: 0.1214 - val_accuracy: 0.8950\n",
      "Epoch 14/100\n",
      "32/32 [==============================] - 0s 5ms/step - loss: 0.1299 - accuracy: 0.8640 - val_loss: 0.1169 - val_accuracy: 0.8950\n",
      "Epoch 15/100\n",
      "32/32 [==============================] - 0s 6ms/step - loss: 0.1262 - accuracy: 0.8679 - val_loss: 0.1129 - val_accuracy: 0.8950\n",
      "Epoch 16/100\n",
      "32/32 [==============================] - 0s 6ms/step - loss: 0.1228 - accuracy: 0.8699 - val_loss: 0.1091 - val_accuracy: 0.8950\n",
      "Epoch 17/100\n",
      "32/32 [==============================] - 0s 6ms/step - loss: 0.1198 - accuracy: 0.8679 - val_loss: 0.1058 - val_accuracy: 0.8950\n",
      "Epoch 18/100\n",
      "32/32 [==============================] - 0s 6ms/step - loss: 0.1171 - accuracy: 0.8650 - val_loss: 0.1027 - val_accuracy: 0.8995\n",
      "Epoch 19/100\n",
      "32/32 [==============================] - 0s 6ms/step - loss: 0.1145 - accuracy: 0.8659 - val_loss: 0.0999 - val_accuracy: 0.8995\n",
      "Epoch 20/100\n",
      "32/32 [==============================] - 0s 6ms/step - loss: 0.1122 - accuracy: 0.8669 - val_loss: 0.0974 - val_accuracy: 0.8950\n",
      "Epoch 21/100\n",
      "32/32 [==============================] - 0s 6ms/step - loss: 0.1101 - accuracy: 0.8699 - val_loss: 0.0950 - val_accuracy: 0.9041\n",
      "Epoch 22/100\n",
      "32/32 [==============================] - 0s 6ms/step - loss: 0.1082 - accuracy: 0.8699 - val_loss: 0.0929 - val_accuracy: 0.9041\n",
      "Epoch 23/100\n",
      "32/32 [==============================] - 0s 6ms/step - loss: 0.1064 - accuracy: 0.8699 - val_loss: 0.0909 - val_accuracy: 0.9041\n",
      "Epoch 24/100\n",
      "32/32 [==============================] - 0s 6ms/step - loss: 0.1048 - accuracy: 0.8728 - val_loss: 0.0891 - val_accuracy: 0.9087\n",
      "Epoch 25/100\n",
      "32/32 [==============================] - 0s 6ms/step - loss: 0.1033 - accuracy: 0.8748 - val_loss: 0.0874 - val_accuracy: 0.9041\n",
      "Epoch 26/100\n",
      "32/32 [==============================] - 0s 6ms/step - loss: 0.1019 - accuracy: 0.8738 - val_loss: 0.0858 - val_accuracy: 0.9087\n",
      "Epoch 27/100\n",
      "32/32 [==============================] - 0s 6ms/step - loss: 0.1006 - accuracy: 0.8757 - val_loss: 0.0844 - val_accuracy: 0.9087\n",
      "Epoch 28/100\n",
      "32/32 [==============================] - 0s 6ms/step - loss: 0.0994 - accuracy: 0.8787 - val_loss: 0.0831 - val_accuracy: 0.9087\n",
      "Epoch 29/100\n",
      "32/32 [==============================] - 0s 6ms/step - loss: 0.0983 - accuracy: 0.8787 - val_loss: 0.0819 - val_accuracy: 0.9087\n",
      "Epoch 30/100\n",
      "32/32 [==============================] - 0s 5ms/step - loss: 0.0973 - accuracy: 0.8787 - val_loss: 0.0807 - val_accuracy: 0.9041\n",
      "Epoch 31/100\n",
      "32/32 [==============================] - 0s 6ms/step - loss: 0.0963 - accuracy: 0.8787 - val_loss: 0.0797 - val_accuracy: 0.8995\n",
      "Epoch 32/100\n",
      "32/32 [==============================] - 0s 6ms/step - loss: 0.0954 - accuracy: 0.8787 - val_loss: 0.0787 - val_accuracy: 0.8995\n",
      "Epoch 33/100\n",
      "32/32 [==============================] - 0s 6ms/step - loss: 0.0946 - accuracy: 0.8787 - val_loss: 0.0778 - val_accuracy: 0.8995\n",
      "Epoch 34/100\n",
      "32/32 [==============================] - 0s 7ms/step - loss: 0.0938 - accuracy: 0.8796 - val_loss: 0.0769 - val_accuracy: 0.8995\n",
      "Epoch 35/100\n",
      "32/32 [==============================] - 0s 6ms/step - loss: 0.0930 - accuracy: 0.8796 - val_loss: 0.0761 - val_accuracy: 0.8950\n",
      "Epoch 36/100\n",
      "32/32 [==============================] - 0s 6ms/step - loss: 0.0923 - accuracy: 0.8787 - val_loss: 0.0753 - val_accuracy: 0.8950\n",
      "Epoch 37/100\n",
      "32/32 [==============================] - 0s 6ms/step - loss: 0.0916 - accuracy: 0.8796 - val_loss: 0.0746 - val_accuracy: 0.8950\n",
      "Epoch 38/100\n",
      "32/32 [==============================] - 0s 6ms/step - loss: 0.0910 - accuracy: 0.8796 - val_loss: 0.0739 - val_accuracy: 0.8950\n",
      "Epoch 39/100\n",
      "32/32 [==============================] - 0s 6ms/step - loss: 0.0905 - accuracy: 0.8806 - val_loss: 0.0733 - val_accuracy: 0.8950\n",
      "Epoch 40/100\n",
      "32/32 [==============================] - 0s 6ms/step - loss: 0.0899 - accuracy: 0.8806 - val_loss: 0.0727 - val_accuracy: 0.8950\n",
      "Epoch 41/100\n",
      "32/32 [==============================] - 0s 6ms/step - loss: 0.0894 - accuracy: 0.8816 - val_loss: 0.0722 - val_accuracy: 0.8950\n",
      "Epoch 42/100\n",
      "32/32 [==============================] - 0s 6ms/step - loss: 0.0889 - accuracy: 0.8826 - val_loss: 0.0717 - val_accuracy: 0.8950\n",
      "Epoch 43/100\n",
      "32/32 [==============================] - 0s 6ms/step - loss: 0.0884 - accuracy: 0.8816 - val_loss: 0.0712 - val_accuracy: 0.9041\n",
      "Epoch 44/100\n",
      "32/32 [==============================] - 0s 6ms/step - loss: 0.0880 - accuracy: 0.8826 - val_loss: 0.0707 - val_accuracy: 0.9087\n",
      "Epoch 45/100\n",
      "32/32 [==============================] - 0s 6ms/step - loss: 0.0876 - accuracy: 0.8845 - val_loss: 0.0703 - val_accuracy: 0.9087\n",
      "Epoch 46/100\n",
      "32/32 [==============================] - 0s 6ms/step - loss: 0.0872 - accuracy: 0.8836 - val_loss: 0.0699 - val_accuracy: 0.9087\n",
      "Epoch 47/100\n",
      "32/32 [==============================] - 0s 6ms/step - loss: 0.0868 - accuracy: 0.8836 - val_loss: 0.0695 - val_accuracy: 0.9087\n",
      "Epoch 48/100\n",
      "32/32 [==============================] - 0s 6ms/step - loss: 0.0864 - accuracy: 0.8836 - val_loss: 0.0691 - val_accuracy: 0.9087\n",
      "Epoch 49/100\n",
      "32/32 [==============================] - 0s 7ms/step - loss: 0.0861 - accuracy: 0.8836 - val_loss: 0.0687 - val_accuracy: 0.9132\n",
      "Epoch 50/100\n",
      "32/32 [==============================] - 0s 6ms/step - loss: 0.0857 - accuracy: 0.8845 - val_loss: 0.0684 - val_accuracy: 0.9132\n",
      "Epoch 51/100\n",
      "32/32 [==============================] - 0s 6ms/step - loss: 0.0854 - accuracy: 0.8845 - val_loss: 0.0681 - val_accuracy: 0.9178\n",
      "Epoch 52/100\n",
      "32/32 [==============================] - 0s 6ms/step - loss: 0.0851 - accuracy: 0.8836 - val_loss: 0.0677 - val_accuracy: 0.9178\n",
      "Epoch 53/100\n",
      "32/32 [==============================] - 0s 6ms/step - loss: 0.0848 - accuracy: 0.8836 - val_loss: 0.0674 - val_accuracy: 0.9178\n",
      "Epoch 54/100\n",
      "32/32 [==============================] - 0s 6ms/step - loss: 0.0845 - accuracy: 0.8845 - val_loss: 0.0672 - val_accuracy: 0.9224\n",
      "Epoch 55/100\n",
      "32/32 [==============================] - 0s 6ms/step - loss: 0.0842 - accuracy: 0.8865 - val_loss: 0.0669 - val_accuracy: 0.9224\n",
      "Epoch 56/100\n",
      "32/32 [==============================] - 0s 6ms/step - loss: 0.0840 - accuracy: 0.8865 - val_loss: 0.0666 - val_accuracy: 0.9224\n",
      "Epoch 57/100\n",
      "32/32 [==============================] - 0s 6ms/step - loss: 0.0837 - accuracy: 0.8865 - val_loss: 0.0664 - val_accuracy: 0.9224\n",
      "Epoch 58/100\n",
      "32/32 [==============================] - 0s 6ms/step - loss: 0.0834 - accuracy: 0.8865 - val_loss: 0.0661 - val_accuracy: 0.9224\n",
      "Epoch 59/100\n",
      "32/32 [==============================] - 0s 6ms/step - loss: 0.0832 - accuracy: 0.8855 - val_loss: 0.0659 - val_accuracy: 0.9224\n",
      "Epoch 60/100\n",
      "32/32 [==============================] - 0s 6ms/step - loss: 0.0830 - accuracy: 0.8855 - val_loss: 0.0657 - val_accuracy: 0.9224\n",
      "Epoch 61/100\n",
      "32/32 [==============================] - 0s 6ms/step - loss: 0.0827 - accuracy: 0.8845 - val_loss: 0.0654 - val_accuracy: 0.9224\n",
      "Epoch 62/100\n",
      "32/32 [==============================] - 0s 6ms/step - loss: 0.0825 - accuracy: 0.8845 - val_loss: 0.0652 - val_accuracy: 0.9224\n",
      "Epoch 63/100\n",
      "32/32 [==============================] - 0s 6ms/step - loss: 0.0823 - accuracy: 0.8855 - val_loss: 0.0650 - val_accuracy: 0.9224\n",
      "Epoch 64/100\n",
      "32/32 [==============================] - 0s 7ms/step - loss: 0.0821 - accuracy: 0.8845 - val_loss: 0.0648 - val_accuracy: 0.9224\n",
      "Epoch 65/100\n",
      "32/32 [==============================] - 0s 5ms/step - loss: 0.0819 - accuracy: 0.8845 - val_loss: 0.0646 - val_accuracy: 0.9224\n",
      "Epoch 66/100\n",
      "32/32 [==============================] - 0s 6ms/step - loss: 0.0817 - accuracy: 0.8845 - val_loss: 0.0645 - val_accuracy: 0.9224\n",
      "Epoch 67/100\n",
      "32/32 [==============================] - 0s 6ms/step - loss: 0.0815 - accuracy: 0.8845 - val_loss: 0.0643 - val_accuracy: 0.9224\n",
      "Epoch 68/100\n",
      "32/32 [==============================] - 0s 6ms/step - loss: 0.0813 - accuracy: 0.8845 - val_loss: 0.0641 - val_accuracy: 0.9224\n",
      "Epoch 69/100\n",
      "32/32 [==============================] - 0s 6ms/step - loss: 0.0811 - accuracy: 0.8845 - val_loss: 0.0640 - val_accuracy: 0.9224\n",
      "Epoch 70/100\n",
      "32/32 [==============================] - 0s 6ms/step - loss: 0.0809 - accuracy: 0.8845 - val_loss: 0.0638 - val_accuracy: 0.9224\n",
      "Epoch 71/100\n",
      "32/32 [==============================] - 0s 6ms/step - loss: 0.0808 - accuracy: 0.8845 - val_loss: 0.0636 - val_accuracy: 0.9178\n",
      "Epoch 72/100\n",
      "32/32 [==============================] - 0s 6ms/step - loss: 0.0806 - accuracy: 0.8855 - val_loss: 0.0635 - val_accuracy: 0.9178\n",
      "Epoch 73/100\n",
      "32/32 [==============================] - 0s 6ms/step - loss: 0.0804 - accuracy: 0.8855 - val_loss: 0.0633 - val_accuracy: 0.9178\n",
      "Epoch 74/100\n",
      "32/32 [==============================] - 0s 6ms/step - loss: 0.0803 - accuracy: 0.8855 - val_loss: 0.0632 - val_accuracy: 0.9178\n",
      "Epoch 75/100\n",
      "32/32 [==============================] - 0s 6ms/step - loss: 0.0801 - accuracy: 0.8855 - val_loss: 0.0631 - val_accuracy: 0.9178\n",
      "Epoch 76/100\n",
      "32/32 [==============================] - 0s 6ms/step - loss: 0.0799 - accuracy: 0.8855 - val_loss: 0.0629 - val_accuracy: 0.9178\n",
      "Epoch 77/100\n",
      "32/32 [==============================] - 0s 6ms/step - loss: 0.0798 - accuracy: 0.8865 - val_loss: 0.0628 - val_accuracy: 0.9178\n",
      "Epoch 78/100\n",
      "32/32 [==============================] - 0s 6ms/step - loss: 0.0796 - accuracy: 0.8865 - val_loss: 0.0627 - val_accuracy: 0.9178\n",
      "Epoch 79/100\n",
      "32/32 [==============================] - 0s 7ms/step - loss: 0.0795 - accuracy: 0.8875 - val_loss: 0.0626 - val_accuracy: 0.9178\n",
      "Epoch 80/100\n",
      "32/32 [==============================] - 0s 6ms/step - loss: 0.0794 - accuracy: 0.8875 - val_loss: 0.0624 - val_accuracy: 0.9178\n",
      "Epoch 81/100\n",
      "32/32 [==============================] - 0s 6ms/step - loss: 0.0792 - accuracy: 0.8865 - val_loss: 0.0623 - val_accuracy: 0.9178\n",
      "Epoch 82/100\n",
      "32/32 [==============================] - 0s 6ms/step - loss: 0.0791 - accuracy: 0.8865 - val_loss: 0.0622 - val_accuracy: 0.9178\n",
      "Epoch 83/100\n",
      "32/32 [==============================] - 0s 6ms/step - loss: 0.0789 - accuracy: 0.8865 - val_loss: 0.0621 - val_accuracy: 0.9178\n",
      "Epoch 84/100\n",
      "32/32 [==============================] - 0s 6ms/step - loss: 0.0788 - accuracy: 0.8865 - val_loss: 0.0620 - val_accuracy: 0.9178\n",
      "Epoch 85/100\n",
      "32/32 [==============================] - 0s 6ms/step - loss: 0.0787 - accuracy: 0.8865 - val_loss: 0.0619 - val_accuracy: 0.9178\n",
      "Epoch 86/100\n",
      "32/32 [==============================] - 0s 6ms/step - loss: 0.0785 - accuracy: 0.8865 - val_loss: 0.0618 - val_accuracy: 0.9178\n",
      "Epoch 87/100\n",
      "32/32 [==============================] - 0s 8ms/step - loss: 0.0784 - accuracy: 0.8865 - val_loss: 0.0617 - val_accuracy: 0.9178\n",
      "Epoch 88/100\n",
      "32/32 [==============================] - 0s 6ms/step - loss: 0.0783 - accuracy: 0.8865 - val_loss: 0.0616 - val_accuracy: 0.9178\n",
      "Epoch 89/100\n",
      "32/32 [==============================] - 0s 6ms/step - loss: 0.0782 - accuracy: 0.8865 - val_loss: 0.0615 - val_accuracy: 0.9178\n",
      "Epoch 90/100\n",
      "32/32 [==============================] - 0s 6ms/step - loss: 0.0780 - accuracy: 0.8865 - val_loss: 0.0615 - val_accuracy: 0.9178\n",
      "Epoch 91/100\n",
      "32/32 [==============================] - 0s 6ms/step - loss: 0.0779 - accuracy: 0.8865 - val_loss: 0.0614 - val_accuracy: 0.9178\n",
      "Epoch 92/100\n",
      "32/32 [==============================] - 0s 6ms/step - loss: 0.0778 - accuracy: 0.8865 - val_loss: 0.0613 - val_accuracy: 0.9178\n",
      "Epoch 93/100\n",
      "32/32 [==============================] - 0s 6ms/step - loss: 0.0777 - accuracy: 0.8865 - val_loss: 0.0612 - val_accuracy: 0.9178\n",
      "Epoch 94/100\n",
      "32/32 [==============================] - 0s 6ms/step - loss: 0.0776 - accuracy: 0.8865 - val_loss: 0.0611 - val_accuracy: 0.9178\n",
      "Epoch 95/100\n",
      "32/32 [==============================] - 0s 6ms/step - loss: 0.0775 - accuracy: 0.8885 - val_loss: 0.0610 - val_accuracy: 0.9178\n",
      "Epoch 96/100\n",
      "32/32 [==============================] - 0s 6ms/step - loss: 0.0774 - accuracy: 0.8885 - val_loss: 0.0610 - val_accuracy: 0.9178\n",
      "Epoch 97/100\n",
      "32/32 [==============================] - 0s 6ms/step - loss: 0.0773 - accuracy: 0.8885 - val_loss: 0.0609 - val_accuracy: 0.9178\n",
      "Epoch 98/100\n",
      "32/32 [==============================] - 0s 6ms/step - loss: 0.0772 - accuracy: 0.8885 - val_loss: 0.0608 - val_accuracy: 0.9178\n",
      "Epoch 99/100\n",
      "32/32 [==============================] - 0s 6ms/step - loss: 0.0771 - accuracy: 0.8885 - val_loss: 0.0607 - val_accuracy: 0.9178\n",
      "Epoch 100/100\n",
      "32/32 [==============================] - 0s 6ms/step - loss: 0.0769 - accuracy: 0.8885 - val_loss: 0.0607 - val_accuracy: 0.9178\n"
     ]
    }
   ],
   "source": [
    "from tensorflow.keras import layers\n",
    "from tensorflow.keras import initializers\n",
    "\n",
    "model=Sequential()\n",
    "\n",
    "\n",
    "batch_size = 32\n",
    "epochs = 100\n",
    "\n",
    "callbacks = [\n",
    "    keras.callbacks.EarlyStopping(monitor=\"val_loss\", patience=2),\n",
    "]\n",
    "\n",
    "model.add(Dense(units=16,\n",
    "                #kernel_initializer='random_normal',\n",
    "                #bias_initializer=keras.initializers.RandomNormal(mean=0.0, stddev=0.05, seed=None),\n",
    "                #input_dim=10,\n",
    "                activation='relu'\n",
    "       )) # Hidden layer 1: 12 neurons, ReLU activation\n",
    "\n",
    "model.add(Dense(units=64,\n",
    "                activation='relu'\n",
    "              \n",
    "       )) #Hidden layer 2: 16 neurons, ReLU activation\n",
    "\n",
    "model.add(Dense(units=1, \n",
    "                activation='sigmoid'\n",
    "       )) # oOutput Layer: 1 neuron, Sigmoid activation (binary classification)\n",
    "\n",
    "model.compile(loss='mean_squared_error', optimizer='sgd', metrics=['accuracy'])\n",
    "\n",
    "model.fit(\n",
    "    X_train,\n",
    "    y_train,\n",
    "    batch_size=batch_size,\n",
    "    epochs=epochs,\n",
    "    validation_data=(X_val, y_val),\n",
    "    callbacks=callbacks\n",
    ")\n",
    "score = model.evaluate(X_test, y_test, verbose=0)"
   ]
  },
  {
   "cell_type": "code",
   "execution_count": 228,
   "metadata": {},
   "outputs": [
    {
     "name": "stdout",
     "output_type": "stream",
     "text": [
      "You must install pydot (`pip install pydot`) and install graphviz (see instructions at https://graphviz.gitlab.io/download/) for plot_model to work.\n"
     ]
    }
   ],
   "source": [
    "keras.utils.plot_model(model, \"my_first_model_with_shape_info.png\", show_shapes=True)"
   ]
  },
  {
   "cell_type": "code",
   "execution_count": 229,
   "metadata": {},
   "outputs": [
    {
     "name": "stdout",
     "output_type": "stream",
     "text": [
      "Model: \"sequential_23\"\n",
      "_________________________________________________________________\n",
      " Layer (type)                Output Shape              Param #   \n",
      "=================================================================\n",
      " dense_71 (Dense)            (None, 16)                176       \n",
      "                                                                 \n",
      " dense_72 (Dense)            (None, 64)                1088      \n",
      "                                                                 \n",
      " dense_73 (Dense)            (None, 1)                 65        \n",
      "                                                                 \n",
      "=================================================================\n",
      "Total params: 1329 (5.19 KB)\n",
      "Trainable params: 1329 (5.19 KB)\n",
      "Non-trainable params: 0 (0.00 Byte)\n",
      "_________________________________________________________________\n"
     ]
    }
   ],
   "source": [
    "model.summary()"
   ]
  },
  {
   "cell_type": "code",
   "execution_count": 291,
   "metadata": {},
   "outputs": [
    {
     "name": "stdout",
     "output_type": "stream",
     "text": [
      "7/7 [==============================] - 0s 3ms/step\n",
      "7/7 [==============================] - 0s 3ms/step\n",
      "Accuracy on the test set: 90.41%\n",
      "Accuracy on the validation set: 91.78%\n"
     ]
    }
   ],
   "source": [
    "predictions_test = model.predict(X_test)\n",
    "rounded_predictions_test = [round(pred[0]) for pred in predictions_test]\n",
    "accuracy_test = accuracy_score(y_test, rounded_predictions_test)\n",
    "\n",
    "predictions_val = model.predict(X_val)\n",
    "rounded_predictions_val = [round(pred[0]) for pred in predictions_val]\n",
    "accuracy_val = accuracy_score(y_val, rounded_predictions_val)\n",
    "\n",
    "\n",
    "print(f'Accuracy on the test set: {accuracy_test * 100:.2f}%')\n",
    "print(f'Accuracy on the validation set: {accuracy_val * 100:.2f}%')"
   ]
  },
  {
   "cell_type": "code",
   "execution_count": 292,
   "metadata": {},
   "outputs": [
    {
     "data": {
      "image/png": "[encoded data removed]",
      "text/plain": [
       "<Figure size 800x500 with 1 Axes>"
      ]
     },
     "metadata": {},
     "output_type": "display_data"
    }
   ],
   "source": [
    "plt.figure(figsize=(8, 5))\n",
    "\n",
    "\n",
    "plt.plot(history.history['loss'], label='Training Loss')\n",
    "plt.plot(history.history['val_loss'], label='Validation Loss')\n",
    "\n",
    "plt.title('Training and Validation Loss')\n",
    "plt.xlabel('Epochs')\n",
    "plt.ylabel('Loss')\n",
    "plt.legend()\n",
    "plt.show()"
   ]
  },
  {
   "cell_type": "code",
   "execution_count": 293,
   "metadata": {},
   "outputs": [
    {
     "data": {
      "image/png": "[encoded data removed]",
      "text/plain": [
       "<Figure size 800x500 with 1 Axes>"
      ]
     },
     "metadata": {},
     "output_type": "display_data"
    }
   ],
   "source": [
    "\n",
    "plt.figure(figsize=(8, 5))\n",
    "\n",
    "plt.plot(history.history['accuracy'], label='Training Accuracy')\n",
    "plt.plot(history.history['val_accuracy'], label='Validation Accuracy')\n",
    "\n",
    "plt.title('Training and Validation Accuracy')\n",
    "plt.xlabel('Epochs')\n",
    "plt.ylabel('Accuracy')\n",
    "plt.legend()\n",
    "plt.show()"
   ]
  },
  {
   "cell_type": "code",
   "execution_count": 233,
   "metadata": {},
   "outputs": [
    {
     "data": {
      "text/plain": [
       "array([[-0.31308477, -0.82305655,  1.29315563, ..., -0.33448024,\n",
       "        -0.9432625 , -0.96534081],\n",
       "       [-0.38629076,  0.63603069, -0.50862358, ..., -0.33448024,\n",
       "         0.59424033,  0.03302105],\n",
       "       [-0.01796482,  0.63603069, -0.50862358, ...,  1.50666236,\n",
       "         0.59424033,  2.42812955],\n",
       "       ...,\n",
       "       [-0.32915653, -0.82305655, -0.50862358, ...,  0.89294816,\n",
       "        -0.9432625 , -0.37016355],\n",
       "       [-0.17453204,  2.09511793, -0.50862358, ...,  0.27923396,\n",
       "         0.59424033,  2.75931689],\n",
       "       [ 0.07890729,  0.63603069, -0.50862358, ..., -0.33448024,\n",
       "        -0.9432625 ,  0.01382178]])"
      ]
     },
     "execution_count": 233,
     "metadata": {},
     "output_type": "execute_result"
    }
   ],
   "source": [
    "X_val"
   ]
  },
  {
   "cell_type": "code",
   "execution_count": null,
   "metadata": {},
   "outputs": [],
   "source": []
  }
 ],
 "metadata": {
  "kernelspec": {
   "display_name": "Python 3",
   "language": "python",
   "name": "python3"
  },
  "language_info": {
   "codemirror_mode": {
    "name": "ipython",
    "version": 3
   },
   "file_extension": ".py",
   "mimetype": "text/x-python",
   "name": "python",
   "nbconvert_exporter": "python",
   "pygments_lexer": "ipython3",
   "version": "3.9.0"
  },
  "toc": {
   "base_numbering": 1,
   "nav_menu": {},
   "number_sections": true,
   "sideBar": true,
   "skip_h1_title": false,
   "title_cell": "Table of Contents",
   "title_sidebar": "Contents",
   "toc_cell": false,
   "toc_position": {},
   "toc_section_display": true,
   "toc_window_display": false
  },
  "varInspector": {
   "cols": {
    "lenName": 16,
    "lenType": 16,
    "lenVar": 40
   },
   "kernels_config": {
    "python": {
     "delete_cmd_postfix": "",
     "delete_cmd_prefix": "del ",
     "library": "var_list.py",
     "varRefreshCmd": "print(var_dic_list())"
    },
    "r": {
     "delete_cmd_postfix": ") ",
     "delete_cmd_prefix": "rm(",
     "library": "var_list.r",
     "varRefreshCmd": "cat(var_dic_list()) "
    }
   },
   "types_to_exclude": [
    "module",
    "function",
    "builtin_function_or_method",
    "instance",
    "_Feature"
   ],
   "window_display": false
  }
 },
 "nbformat": 4,
 "nbformat_minor": 2
}

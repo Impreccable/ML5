{
 "cells": [
  {
   "cell_type": "markdown",
   "metadata": {},
   "source": [
    "### IMPORTS"
   ]
  },
  {
   "cell_type": "code",
   "execution_count": 3,
   "metadata": {},
   "outputs": [],
   "source": [
    "import pandas as pd\n",
    "import os\n",
    "import numpy as numpy\n",
    "\n",
    "import keras\n",
    "from keras.models import Sequential\n",
    "from keras.layers import Dense\n",
    "\n",
    "import matplotlib.pyplot as plt\n",
    "import plotly as px"
   ]
  },
  {
   "attachments": {},
   "cell_type": "markdown",
   "metadata": {},
   "source": [
    "# First Deep Learning Project in Python with Keras"
   ]
  },
  {
   "attachments": {},
   "cell_type": "markdown",
   "metadata": {},
   "source": [
    "The steps we are going to cover:\n",
    "1. Load Data.\n",
    "2. Define Keras Model.\n",
    "3. Compile Keras Model.\n",
    "4. Fit Keras Model.\n",
    "5. Evaluate Keras Model.\n",
    "6. Put It All Together.\n",
    "7. Make Predictions"
   ]
  },
  {
   "attachments": {},
   "cell_type": "markdown",
   "metadata": {},
   "source": [
    "## Load Data\n",
    "    "
   ]
  },
  {
   "attachments": {},
   "cell_type": "markdown",
   "metadata": {},
   "source": [
    "Download the dataset and place it in your local working directory, the same location as your python file. Take a look at the dataset:"
   ]
  },
  {
   "cell_type": "code",
   "execution_count": 4,
   "metadata": {},
   "outputs": [],
   "source": [
    "df = pd.read_csv('../data/housepricedata.csv')\n"
   ]
  },
  {
   "cell_type": "code",
   "execution_count": 5,
   "metadata": {},
   "outputs": [
    {
     "data": {
      "text/html": [
       "<div>\n",
       "<style scoped>\n",
       "    .dataframe tbody tr th:only-of-type {\n",
       "        vertical-align: middle;\n",
       "    }\n",
       "\n",
       "    .dataframe tbody tr th {\n",
       "        vertical-align: top;\n",
       "    }\n",
       "\n",
       "    .dataframe thead th {\n",
       "        text-align: right;\n",
       "    }\n",
       "</style>\n",
       "<table border=\"1\" class=\"dataframe\">\n",
       "  <thead>\n",
       "    <tr style=\"text-align: right;\">\n",
       "      <th></th>\n",
       "      <th>LotArea</th>\n",
       "      <th>OverallQual</th>\n",
       "      <th>OverallCond</th>\n",
       "      <th>TotalBsmtSF</th>\n",
       "      <th>FullBath</th>\n",
       "      <th>HalfBath</th>\n",
       "      <th>BedroomAbvGr</th>\n",
       "      <th>TotRmsAbvGrd</th>\n",
       "      <th>Fireplaces</th>\n",
       "      <th>GarageArea</th>\n",
       "      <th>AboveMedianPrice</th>\n",
       "    </tr>\n",
       "  </thead>\n",
       "  <tbody>\n",
       "    <tr>\n",
       "      <th>0</th>\n",
       "      <td>8450</td>\n",
       "      <td>7</td>\n",
       "      <td>5</td>\n",
       "      <td>856</td>\n",
       "      <td>2</td>\n",
       "      <td>1</td>\n",
       "      <td>3</td>\n",
       "      <td>8</td>\n",
       "      <td>0</td>\n",
       "      <td>548</td>\n",
       "      <td>1</td>\n",
       "    </tr>\n",
       "    <tr>\n",
       "      <th>1</th>\n",
       "      <td>9600</td>\n",
       "      <td>6</td>\n",
       "      <td>8</td>\n",
       "      <td>1262</td>\n",
       "      <td>2</td>\n",
       "      <td>0</td>\n",
       "      <td>3</td>\n",
       "      <td>6</td>\n",
       "      <td>1</td>\n",
       "      <td>460</td>\n",
       "      <td>1</td>\n",
       "    </tr>\n",
       "    <tr>\n",
       "      <th>2</th>\n",
       "      <td>11250</td>\n",
       "      <td>7</td>\n",
       "      <td>5</td>\n",
       "      <td>920</td>\n",
       "      <td>2</td>\n",
       "      <td>1</td>\n",
       "      <td>3</td>\n",
       "      <td>6</td>\n",
       "      <td>1</td>\n",
       "      <td>608</td>\n",
       "      <td>1</td>\n",
       "    </tr>\n",
       "    <tr>\n",
       "      <th>3</th>\n",
       "      <td>9550</td>\n",
       "      <td>7</td>\n",
       "      <td>5</td>\n",
       "      <td>756</td>\n",
       "      <td>1</td>\n",
       "      <td>0</td>\n",
       "      <td>3</td>\n",
       "      <td>7</td>\n",
       "      <td>1</td>\n",
       "      <td>642</td>\n",
       "      <td>0</td>\n",
       "    </tr>\n",
       "    <tr>\n",
       "      <th>4</th>\n",
       "      <td>14260</td>\n",
       "      <td>8</td>\n",
       "      <td>5</td>\n",
       "      <td>1145</td>\n",
       "      <td>2</td>\n",
       "      <td>1</td>\n",
       "      <td>4</td>\n",
       "      <td>9</td>\n",
       "      <td>1</td>\n",
       "      <td>836</td>\n",
       "      <td>1</td>\n",
       "    </tr>\n",
       "    <tr>\n",
       "      <th>5</th>\n",
       "      <td>14115</td>\n",
       "      <td>5</td>\n",
       "      <td>5</td>\n",
       "      <td>796</td>\n",
       "      <td>1</td>\n",
       "      <td>1</td>\n",
       "      <td>1</td>\n",
       "      <td>5</td>\n",
       "      <td>0</td>\n",
       "      <td>480</td>\n",
       "      <td>0</td>\n",
       "    </tr>\n",
       "    <tr>\n",
       "      <th>6</th>\n",
       "      <td>10084</td>\n",
       "      <td>8</td>\n",
       "      <td>5</td>\n",
       "      <td>1686</td>\n",
       "      <td>2</td>\n",
       "      <td>0</td>\n",
       "      <td>3</td>\n",
       "      <td>7</td>\n",
       "      <td>1</td>\n",
       "      <td>636</td>\n",
       "      <td>1</td>\n",
       "    </tr>\n",
       "    <tr>\n",
       "      <th>7</th>\n",
       "      <td>10382</td>\n",
       "      <td>7</td>\n",
       "      <td>6</td>\n",
       "      <td>1107</td>\n",
       "      <td>2</td>\n",
       "      <td>1</td>\n",
       "      <td>3</td>\n",
       "      <td>7</td>\n",
       "      <td>2</td>\n",
       "      <td>484</td>\n",
       "      <td>1</td>\n",
       "    </tr>\n",
       "    <tr>\n",
       "      <th>8</th>\n",
       "      <td>6120</td>\n",
       "      <td>7</td>\n",
       "      <td>5</td>\n",
       "      <td>952</td>\n",
       "      <td>2</td>\n",
       "      <td>0</td>\n",
       "      <td>2</td>\n",
       "      <td>8</td>\n",
       "      <td>2</td>\n",
       "      <td>468</td>\n",
       "      <td>0</td>\n",
       "    </tr>\n",
       "    <tr>\n",
       "      <th>9</th>\n",
       "      <td>7420</td>\n",
       "      <td>5</td>\n",
       "      <td>6</td>\n",
       "      <td>991</td>\n",
       "      <td>1</td>\n",
       "      <td>0</td>\n",
       "      <td>2</td>\n",
       "      <td>5</td>\n",
       "      <td>2</td>\n",
       "      <td>205</td>\n",
       "      <td>0</td>\n",
       "    </tr>\n",
       "  </tbody>\n",
       "</table>\n",
       "</div>"
      ],
      "text/plain": [
       "   LotArea  OverallQual  OverallCond  TotalBsmtSF  FullBath  HalfBath  \\\n",
       "0     8450            7            5          856         2         1   \n",
       "1     9600            6            8         1262         2         0   \n",
       "2    11250            7            5          920         2         1   \n",
       "3     9550            7            5          756         1         0   \n",
       "4    14260            8            5         1145         2         1   \n",
       "5    14115            5            5          796         1         1   \n",
       "6    10084            8            5         1686         2         0   \n",
       "7    10382            7            6         1107         2         1   \n",
       "8     6120            7            5          952         2         0   \n",
       "9     7420            5            6          991         1         0   \n",
       "\n",
       "   BedroomAbvGr  TotRmsAbvGrd  Fireplaces  GarageArea  AboveMedianPrice  \n",
       "0             3             8           0         548                 1  \n",
       "1             3             6           1         460                 1  \n",
       "2             3             6           1         608                 1  \n",
       "3             3             7           1         642                 0  \n",
       "4             4             9           1         836                 1  \n",
       "5             1             5           0         480                 0  \n",
       "6             3             7           1         636                 1  \n",
       "7             3             7           2         484                 1  \n",
       "8             2             8           2         468                 0  \n",
       "9             2             5           2         205                 0  "
      ]
     },
     "execution_count": 5,
     "metadata": {},
     "output_type": "execute_result"
    }
   ],
   "source": [
    "df.head(10)"
   ]
  },
  {
   "attachments": {},
   "cell_type": "markdown",
   "metadata": {},
   "source": [
    "Here, you can explore the data a little. We have our input features in the first ten columns:\n",
    "\n",
    "- Lot Area (in sq ft)\n",
    "- Overall Quality (scale from 1 to 10)\n",
    "- Overall Condition (scale from 1 to 10)\n",
    "- Total Basement Area (in sq ft)\n",
    "- Number of Full Bathrooms\n",
    "- Number of Half Bathrooms\n",
    "- Number of Bedrooms above ground\n",
    "- Total Number of Rooms above ground\n",
    "- Number of Fireplaces\n",
    "- Garage Area (in sq ft)\n",
    "\n",
    "In our last column, we have the feature that we would like to predict:\n",
    "- Is the house price above the median or not? (1 for yes and 0 for no)\n",
    "\n",
    "Which task are we going to train the neural network for (regression, classification, other...) ?"
   ]
  },
  {
   "cell_type": "code",
   "execution_count": 6,
   "metadata": {},
   "outputs": [],
   "source": [
    "# Your answer here : CLASSIFICATION"
   ]
  },
  {
   "attachments": {},
   "cell_type": "markdown",
   "metadata": {},
   "source": [
    "Now that we’ve seen what our data looks like, we want to convert it into arrays for our machine to process:"
   ]
  },
  {
   "cell_type": "code",
   "execution_count": 7,
   "metadata": {},
   "outputs": [],
   "source": [
    "dataset = df.values"
   ]
  },
  {
   "cell_type": "code",
   "execution_count": 9,
   "metadata": {},
   "outputs": [
    {
     "data": {
      "text/plain": [
       "array([[ 8450,     7,     5, ...,     0,   548,     1],\n",
       "       [ 9600,     6,     8, ...,     1,   460,     1],\n",
       "       [11250,     7,     5, ...,     1,   608,     1],\n",
       "       ...,\n",
       "       [ 9042,     7,     9, ...,     2,   252,     1],\n",
       "       [ 9717,     5,     6, ...,     0,   240,     0],\n",
       "       [ 9937,     5,     6, ...,     0,   276,     0]])"
      ]
     },
     "execution_count": 9,
     "metadata": {},
     "output_type": "execute_result"
    }
   ],
   "source": [
    "dataset"
   ]
  },
  {
   "attachments": {},
   "cell_type": "markdown",
   "metadata": {},
   "source": [
    "Split the dataset into input features (X) and the feature we wish to predict (Y). To do that split, assign the first 10 columns of our array to a variable called X and the last column of our array to a variable called Y"
   ]
  },
  {
   "cell_type": "code",
   "execution_count": 10,
   "metadata": {},
   "outputs": [],
   "source": [
    "X = dataset[:,0:10]\n",
    "y = dataset[:,10]"
   ]
  },
  {
   "cell_type": "code",
   "execution_count": 12,
   "metadata": {},
   "outputs": [
    {
     "data": {
      "text/plain": [
       "array([1, 1, 1, ..., 1, 0, 0])"
      ]
     },
     "execution_count": 12,
     "metadata": {},
     "output_type": "execute_result"
    }
   ],
   "source": [
    "y"
   ]
  },
  {
   "attachments": {},
   "cell_type": "markdown",
   "metadata": {},
   "source": [
    "Now, we want to split our dataset into a training set, a validation set and a test set. These are the dimensions you need to get for your train, validation and test datasets: (1022, 10) (219, 10) (219, 10) (1022,) (219,) (219,)\n",
    "\n",
    "We will use the code from scikit-learn called ‘train_test_split’, which as the name suggests, split our dataset into a training set and a test set. We first import the code we need:"
   ]
  },
  {
   "cell_type": "code",
   "execution_count": 14,
   "metadata": {},
   "outputs": [],
   "source": [
    "# splitting into train and test\n",
    "from sklearn.model_selection import train_test_split\n",
    "\n",
    "X_train, X_test, y_train, y_test = train_test_split(X, y, test_size=0.3, random_state=42)"
   ]
  },
  {
   "attachments": {},
   "cell_type": "markdown",
   "metadata": {},
   "source": [
    "Unfortunately, this function only helps us split our dataset into two. Since we want a separate validation set and test set, we can use the same function to do the split again on val_and_test:"
   ]
  },
  {
   "cell_type": "code",
   "execution_count": 20,
   "metadata": {},
   "outputs": [],
   "source": [
    "# splitting into validation and test\n",
    "X_val, X_test, y_val, y_test = train_test_split(X_test,y_test, test_size=0.5)"
   ]
  },
  {
   "cell_type": "code",
   "execution_count": 21,
   "metadata": {},
   "outputs": [
    {
     "name": "stdout",
     "output_type": "stream",
     "text": [
      "(1022, 10)\n",
      "(1022,)\n",
      "(109, 10)\n",
      "(109,)\n",
      "(110, 10)\n",
      "(110,)\n"
     ]
    },
    {
     "data": {
      "text/plain": [
       "(None, None)"
      ]
     },
     "execution_count": 21,
     "metadata": {},
     "output_type": "execute_result"
    }
   ],
   "source": [
    "print(X_train.shape), print(y_train.shape)\n",
    "print(X_val.shape), print(y_val.shape)\n",
    "print(X_test.shape), print(y_test.shape)"
   ]
  },
  {
   "attachments": {},
   "cell_type": "markdown",
   "metadata": {},
   "source": [
    "Feature scaling will help us see all the variables from the same scale, it will also help our models learn faster"
   ]
  },
  {
   "cell_type": "code",
   "execution_count": 22,
   "metadata": {},
   "outputs": [],
   "source": [
    "# scaling\n",
    "from sklearn.preprocessing import StandardScaler\n",
    "\n",
    "scaler = StandardScaler()\n",
    "X_train = scaler.fit_transform(X_train)\n",
    "X_val = scaler.transform(X_val)\n",
    "X_test = scaler.transform(X_test)\n"
   ]
  },
  {
   "attachments": {},
   "cell_type": "markdown",
   "metadata": {},
   "source": [
    "## Define Keras Model."
   ]
  },
  {
   "attachments": {
    "ex_rnn_keras.PNG": {
     "image/png": "[encoded data removed]"
    }
   },
   "cell_type": "markdown",
   "metadata": {},
   "source": [
    "The first thing we have to do is to set up the architecture. Let’s first think about what kind of neural network architecture we want. Suppose we want this neural network:\n",
    "![ex_rnn_keras.PNG](attachment:ex_rnn_keras.PNG)\n",
    "In words, we want to have these layers:\n",
    "\n",
    "- Hidden layer 1: 12 neurons, ReLU activation\n",
    "- Hidden layer 2: 16 neurons, ReLU activation\n",
    "- Output Layer: 1 neuron, Sigmoid activation\n",
    "    \n",
    "Now, we need to describe this architecture to Keras. We will be using the Sequential model, which means that we merely need to describe the layers above in sequence."
   ]
  },
  {
   "cell_type": "code",
   "execution_count": 24,
   "metadata": {},
   "outputs": [
    {
     "name": "stderr",
     "output_type": "stream",
     "text": [
      "2023-12-15 11:16:24.485238: I tensorflow/core/common_runtime/gpu/gpu_device.cc:1929] Created device /job:localhost/replica:0/task:0/device:GPU:0 with 4282 MB memory:  -> device: 0, name: NVIDIA GeForce GTX 1660, pci bus id: 0000:61:00.0, compute capability: 7.5\n"
     ]
    }
   ],
   "source": [
    "# Dependencies\n",
    "import keras\n",
    "from keras.models import Sequential\n",
    "from keras.layers import Dense\n",
    "\n",
    "# define model\n",
    "model=Sequential()\n",
    "\n",
    "model.add(Dense(12, input_dim=10, activation='relu')) # Hidden layer 1: 12 neurons, ReLU activation\n",
    "model.add(Dense(16, activation='relu')) #Hidden layer 2: 16 neurons, ReLU activation\n",
    "model.add(Dense(1, activation='sigmoid')) # oOutput Layer: 1 neuron, Sigmoid activation (binary classification)"
   ]
  },
  {
   "attachments": {},
   "cell_type": "markdown",
   "metadata": {},
   "source": [
    "Now that the model is defined, we can compile it.\n",
    "\n",
    "Compiling the model uses TensorFlow that chooses the best way to represent the network for training and making predictions to run on your hardware, such as CPU or GPU or even distributed."
   ]
  },
  {
   "cell_type": "code",
   "execution_count": 25,
   "metadata": {},
   "outputs": [],
   "source": [
    "# compile model\n",
    "model.compile(loss='mean_squared_error', optimizer='sgd', metrics=['accuracy'])"
   ]
  },
  {
   "attachments": {},
   "cell_type": "markdown",
   "metadata": {},
   "source": [
    "We have defined our model and compiled it ready for efficient computation.\n",
    "\n",
    "Now it is time to execute the model on some data (use 100 iterations and 32 batch size)."
   ]
  },
  {
   "cell_type": "code",
   "execution_count": 26,
   "metadata": {},
   "outputs": [
    {
     "name": "stdout",
     "output_type": "stream",
     "text": [
      "Epoch 1/100\n"
     ]
    },
    {
     "name": "stderr",
     "output_type": "stream",
     "text": [
      "2023-12-15 11:17:20.935969: I external/local_tsl/tsl/platform/default/subprocess.cc:304] Start cannot spawn child process: No such file or directory\n",
      "2023-12-15 11:17:21.835000: I external/local_xla/xla/service/service.cc:168] XLA service 0x7f52a8961fe0 initialized for platform CUDA (this does not guarantee that XLA will be used). Devices:\n",
      "2023-12-15 11:17:21.835048: I external/local_xla/xla/service/service.cc:176]   StreamExecutor device (0): NVIDIA GeForce GTX 1660, Compute Capability 7.5\n",
      "2023-12-15 11:17:21.854604: I external/local_xla/xla/stream_executor/cuda/cuda_dnn.cc:454] Loaded cuDNN version 8904\n",
      "WARNING: All log messages before absl::InitializeLog() is called are written to STDERR\n",
      "I0000 00:00:1702635441.973142   12932 device_compiler.h:186] Compiled cluster using XLA!  This line is logged at most once for the lifetime of the process.\n"
     ]
    },
    {
     "name": "stdout",
     "output_type": "stream",
     "text": [
      "32/32 [==============================] - 2s 4ms/step - loss: 0.2520 - accuracy: 0.5802\n",
      "Epoch 2/100\n",
      "32/32 [==============================] - 0s 4ms/step - loss: 0.2397 - accuracy: 0.6135\n",
      "Epoch 3/100\n",
      "32/32 [==============================] - 0s 4ms/step - loss: 0.2288 - accuracy: 0.6331\n",
      "Epoch 4/100\n",
      "32/32 [==============================] - 0s 4ms/step - loss: 0.2193 - accuracy: 0.6566\n",
      "Epoch 5/100\n",
      "32/32 [==============================] - 0s 4ms/step - loss: 0.2109 - accuracy: 0.6830\n",
      "Epoch 6/100\n",
      "32/32 [==============================] - 0s 4ms/step - loss: 0.2034 - accuracy: 0.7084\n",
      "Epoch 7/100\n",
      "32/32 [==============================] - 0s 4ms/step - loss: 0.1965 - accuracy: 0.7162\n",
      "Epoch 8/100\n",
      "32/32 [==============================] - 0s 4ms/step - loss: 0.1902 - accuracy: 0.7309\n",
      "Epoch 9/100\n",
      "32/32 [==============================] - 0s 4ms/step - loss: 0.1843 - accuracy: 0.7436\n",
      "Epoch 10/100\n",
      "32/32 [==============================] - 0s 4ms/step - loss: 0.1788 - accuracy: 0.7524\n",
      "Epoch 11/100\n",
      "32/32 [==============================] - 0s 4ms/step - loss: 0.1735 - accuracy: 0.7613\n",
      "Epoch 12/100\n",
      "32/32 [==============================] - 0s 4ms/step - loss: 0.1686 - accuracy: 0.7710\n",
      "Epoch 13/100\n",
      "32/32 [==============================] - 0s 4ms/step - loss: 0.1639 - accuracy: 0.7828\n",
      "Epoch 14/100\n",
      "32/32 [==============================] - 0s 4ms/step - loss: 0.1595 - accuracy: 0.7896\n",
      "Epoch 15/100\n",
      "32/32 [==============================] - 0s 4ms/step - loss: 0.1554 - accuracy: 0.7984\n",
      "Epoch 16/100\n",
      "32/32 [==============================] - 0s 4ms/step - loss: 0.1516 - accuracy: 0.8023\n",
      "Epoch 17/100\n",
      "32/32 [==============================] - 0s 4ms/step - loss: 0.1479 - accuracy: 0.8072\n",
      "Epoch 18/100\n",
      "32/32 [==============================] - 0s 4ms/step - loss: 0.1445 - accuracy: 0.8131\n",
      "Epoch 19/100\n",
      "32/32 [==============================] - 0s 4ms/step - loss: 0.1414 - accuracy: 0.8200\n",
      "Epoch 20/100\n",
      "32/32 [==============================] - 0s 4ms/step - loss: 0.1384 - accuracy: 0.8278\n",
      "Epoch 21/100\n",
      "32/32 [==============================] - 0s 4ms/step - loss: 0.1355 - accuracy: 0.8297\n",
      "Epoch 22/100\n",
      "32/32 [==============================] - 0s 4ms/step - loss: 0.1329 - accuracy: 0.8297\n",
      "Epoch 23/100\n",
      "32/32 [==============================] - 0s 4ms/step - loss: 0.1304 - accuracy: 0.8327\n",
      "Epoch 24/100\n",
      "32/32 [==============================] - 0s 4ms/step - loss: 0.1282 - accuracy: 0.8395\n",
      "Epoch 25/100\n",
      "32/32 [==============================] - 0s 4ms/step - loss: 0.1260 - accuracy: 0.8405\n",
      "Epoch 26/100\n",
      "32/32 [==============================] - 0s 4ms/step - loss: 0.1240 - accuracy: 0.8395\n",
      "Epoch 27/100\n",
      "32/32 [==============================] - 0s 4ms/step - loss: 0.1221 - accuracy: 0.8425\n",
      "Epoch 28/100\n",
      "32/32 [==============================] - 0s 4ms/step - loss: 0.1203 - accuracy: 0.8434\n",
      "Epoch 29/100\n",
      "32/32 [==============================] - 0s 4ms/step - loss: 0.1186 - accuracy: 0.8464\n",
      "Epoch 30/100\n",
      "32/32 [==============================] - 0s 4ms/step - loss: 0.1170 - accuracy: 0.8483\n",
      "Epoch 31/100\n",
      "32/32 [==============================] - 0s 6ms/step - loss: 0.1155 - accuracy: 0.8503\n",
      "Epoch 32/100\n",
      "32/32 [==============================] - 0s 4ms/step - loss: 0.1141 - accuracy: 0.8523\n",
      "Epoch 33/100\n",
      "32/32 [==============================] - 0s 4ms/step - loss: 0.1127 - accuracy: 0.8532\n",
      "Epoch 34/100\n",
      "32/32 [==============================] - 0s 4ms/step - loss: 0.1115 - accuracy: 0.8532\n",
      "Epoch 35/100\n",
      "32/32 [==============================] - 0s 4ms/step - loss: 0.1103 - accuracy: 0.8542\n",
      "Epoch 36/100\n",
      "32/32 [==============================] - 0s 4ms/step - loss: 0.1091 - accuracy: 0.8542\n",
      "Epoch 37/100\n",
      "32/32 [==============================] - 0s 4ms/step - loss: 0.1081 - accuracy: 0.8552\n",
      "Epoch 38/100\n",
      "32/32 [==============================] - 0s 4ms/step - loss: 0.1070 - accuracy: 0.8562\n",
      "Epoch 39/100\n",
      "32/32 [==============================] - 0s 4ms/step - loss: 0.1061 - accuracy: 0.8562\n",
      "Epoch 40/100\n",
      "32/32 [==============================] - 0s 4ms/step - loss: 0.1052 - accuracy: 0.8562\n",
      "Epoch 41/100\n",
      "32/32 [==============================] - 0s 4ms/step - loss: 0.1043 - accuracy: 0.8581\n",
      "Epoch 42/100\n",
      "32/32 [==============================] - 0s 4ms/step - loss: 0.1035 - accuracy: 0.8581\n",
      "Epoch 43/100\n",
      "32/32 [==============================] - 0s 4ms/step - loss: 0.1027 - accuracy: 0.8591\n",
      "Epoch 44/100\n",
      "32/32 [==============================] - 0s 4ms/step - loss: 0.1019 - accuracy: 0.8611\n",
      "Epoch 45/100\n",
      "32/32 [==============================] - 0s 5ms/step - loss: 0.1011 - accuracy: 0.8611\n",
      "Epoch 46/100\n",
      "32/32 [==============================] - 0s 4ms/step - loss: 0.1004 - accuracy: 0.8611\n",
      "Epoch 47/100\n",
      "32/32 [==============================] - 0s 4ms/step - loss: 0.0998 - accuracy: 0.8611\n",
      "Epoch 48/100\n",
      "32/32 [==============================] - 0s 4ms/step - loss: 0.0991 - accuracy: 0.8611\n",
      "Epoch 49/100\n",
      "32/32 [==============================] - 0s 4ms/step - loss: 0.0985 - accuracy: 0.8611\n",
      "Epoch 50/100\n",
      "32/32 [==============================] - 0s 4ms/step - loss: 0.0979 - accuracy: 0.8620\n",
      "Epoch 51/100\n",
      "32/32 [==============================] - 0s 4ms/step - loss: 0.0973 - accuracy: 0.8640\n",
      "Epoch 52/100\n",
      "32/32 [==============================] - 0s 4ms/step - loss: 0.0968 - accuracy: 0.8630\n",
      "Epoch 53/100\n",
      "32/32 [==============================] - 0s 4ms/step - loss: 0.0962 - accuracy: 0.8630\n",
      "Epoch 54/100\n",
      "32/32 [==============================] - 0s 4ms/step - loss: 0.0957 - accuracy: 0.8640\n",
      "Epoch 55/100\n",
      "32/32 [==============================] - 0s 4ms/step - loss: 0.0952 - accuracy: 0.8640\n",
      "Epoch 56/100\n",
      "32/32 [==============================] - 0s 4ms/step - loss: 0.0947 - accuracy: 0.8640\n",
      "Epoch 57/100\n",
      "32/32 [==============================] - 0s 4ms/step - loss: 0.0943 - accuracy: 0.8659\n",
      "Epoch 58/100\n",
      "32/32 [==============================] - 0s 4ms/step - loss: 0.0938 - accuracy: 0.8659\n",
      "Epoch 59/100\n",
      "32/32 [==============================] - 0s 5ms/step - loss: 0.0933 - accuracy: 0.8669\n",
      "Epoch 60/100\n",
      "32/32 [==============================] - 0s 4ms/step - loss: 0.0929 - accuracy: 0.8669\n",
      "Epoch 61/100\n",
      "32/32 [==============================] - 0s 4ms/step - loss: 0.0925 - accuracy: 0.8679\n",
      "Epoch 62/100\n",
      "32/32 [==============================] - 0s 4ms/step - loss: 0.0921 - accuracy: 0.8699\n",
      "Epoch 63/100\n",
      "32/32 [==============================] - 0s 4ms/step - loss: 0.0917 - accuracy: 0.8699\n",
      "Epoch 64/100\n",
      "32/32 [==============================] - 0s 4ms/step - loss: 0.0914 - accuracy: 0.8718\n",
      "Epoch 65/100\n",
      "32/32 [==============================] - 0s 4ms/step - loss: 0.0910 - accuracy: 0.8669\n",
      "Epoch 66/100\n",
      "32/32 [==============================] - 0s 4ms/step - loss: 0.0907 - accuracy: 0.8689\n",
      "Epoch 67/100\n",
      "32/32 [==============================] - 0s 4ms/step - loss: 0.0903 - accuracy: 0.8689\n",
      "Epoch 68/100\n",
      "32/32 [==============================] - 0s 4ms/step - loss: 0.0900 - accuracy: 0.8689\n",
      "Epoch 69/100\n",
      "32/32 [==============================] - 0s 4ms/step - loss: 0.0896 - accuracy: 0.8708\n",
      "Epoch 70/100\n",
      "32/32 [==============================] - 0s 4ms/step - loss: 0.0893 - accuracy: 0.8689\n",
      "Epoch 71/100\n",
      "32/32 [==============================] - 0s 4ms/step - loss: 0.0890 - accuracy: 0.8708\n",
      "Epoch 72/100\n",
      "32/32 [==============================] - 0s 4ms/step - loss: 0.0887 - accuracy: 0.8738\n",
      "Epoch 73/100\n",
      "32/32 [==============================] - 0s 5ms/step - loss: 0.0884 - accuracy: 0.8718\n",
      "Epoch 74/100\n",
      "32/32 [==============================] - 0s 4ms/step - loss: 0.0882 - accuracy: 0.8748\n",
      "Epoch 75/100\n",
      "32/32 [==============================] - 0s 4ms/step - loss: 0.0879 - accuracy: 0.8757\n",
      "Epoch 76/100\n",
      "32/32 [==============================] - 0s 4ms/step - loss: 0.0876 - accuracy: 0.8777\n",
      "Epoch 77/100\n",
      "32/32 [==============================] - 0s 4ms/step - loss: 0.0873 - accuracy: 0.8767\n",
      "Epoch 78/100\n",
      "32/32 [==============================] - 0s 4ms/step - loss: 0.0871 - accuracy: 0.8757\n",
      "Epoch 79/100\n",
      "32/32 [==============================] - 0s 4ms/step - loss: 0.0868 - accuracy: 0.8796\n",
      "Epoch 80/100\n",
      "32/32 [==============================] - 0s 4ms/step - loss: 0.0866 - accuracy: 0.8806\n",
      "Epoch 81/100\n",
      "32/32 [==============================] - 0s 4ms/step - loss: 0.0863 - accuracy: 0.8796\n",
      "Epoch 82/100\n",
      "32/32 [==============================] - 0s 4ms/step - loss: 0.0861 - accuracy: 0.8806\n",
      "Epoch 83/100\n",
      "32/32 [==============================] - 0s 4ms/step - loss: 0.0859 - accuracy: 0.8796\n",
      "Epoch 84/100\n",
      "32/32 [==============================] - 0s 4ms/step - loss: 0.0856 - accuracy: 0.8796\n",
      "Epoch 85/100\n",
      "32/32 [==============================] - 0s 4ms/step - loss: 0.0854 - accuracy: 0.8816\n",
      "Epoch 86/100\n",
      "32/32 [==============================] - 0s 5ms/step - loss: 0.0852 - accuracy: 0.8826\n",
      "Epoch 87/100\n",
      "32/32 [==============================] - 0s 4ms/step - loss: 0.0850 - accuracy: 0.8836\n",
      "Epoch 88/100\n",
      "32/32 [==============================] - 0s 4ms/step - loss: 0.0848 - accuracy: 0.8816\n",
      "Epoch 89/100\n",
      "32/32 [==============================] - 0s 4ms/step - loss: 0.0845 - accuracy: 0.8836\n",
      "Epoch 90/100\n",
      "32/32 [==============================] - 0s 5ms/step - loss: 0.0843 - accuracy: 0.8826\n",
      "Epoch 91/100\n",
      "32/32 [==============================] - 0s 4ms/step - loss: 0.0841 - accuracy: 0.8826\n",
      "Epoch 92/100\n",
      "32/32 [==============================] - 0s 4ms/step - loss: 0.0839 - accuracy: 0.8826\n",
      "Epoch 93/100\n",
      "32/32 [==============================] - 0s 4ms/step - loss: 0.0837 - accuracy: 0.8826\n",
      "Epoch 94/100\n",
      "32/32 [==============================] - 0s 4ms/step - loss: 0.0835 - accuracy: 0.8816\n",
      "Epoch 95/100\n",
      "32/32 [==============================] - 0s 4ms/step - loss: 0.0833 - accuracy: 0.8836\n",
      "Epoch 96/100\n",
      "32/32 [==============================] - 0s 4ms/step - loss: 0.0831 - accuracy: 0.8836\n",
      "Epoch 97/100\n",
      "32/32 [==============================] - 0s 4ms/step - loss: 0.0829 - accuracy: 0.8826\n",
      "Epoch 98/100\n",
      "32/32 [==============================] - 0s 4ms/step - loss: 0.0827 - accuracy: 0.8836\n",
      "Epoch 99/100\n",
      "32/32 [==============================] - 0s 4ms/step - loss: 0.0825 - accuracy: 0.8836\n",
      "Epoch 100/100\n",
      "32/32 [==============================] - 0s 4ms/step - loss: 0.0823 - accuracy: 0.8845\n"
     ]
    },
    {
     "data": {
      "text/plain": [
       "<keras.src.callbacks.History at 0x7f5389685940>"
      ]
     },
     "execution_count": 26,
     "metadata": {},
     "output_type": "execute_result"
    }
   ],
   "source": [
    "# train model\n",
    "model.fit(X_train, y_train, epochs=100, batch_size=32)"
   ]
  },
  {
   "cell_type": "code",
   "execution_count": 33,
   "metadata": {},
   "outputs": [
    {
     "name": "stdout",
     "output_type": "stream",
     "text": [
      "4/4 [==============================] - 0s 3ms/step\n"
     ]
    }
   ],
   "source": [
    "pred = model.predict(X_val)\n",
    "rnd_pred = [round(pred[0]) for pred in pred]\n"
   ]
  },
  {
   "cell_type": "code",
   "execution_count": 34,
   "metadata": {},
   "outputs": [
    {
     "name": "stdout",
     "output_type": "stream",
     "text": [
      "Accuracy =: 91.74%\n"
     ]
    }
   ],
   "source": [
    "# calculate accuracy on validation set\n",
    "from sklearn.metrics import accuracy_score\n",
    "\n",
    "accuracy = accuracy_score(y_val, rnd_pred)\n",
    "print(f'Accuracy =: {accuracy * 100:.2f}%')"
   ]
  },
  {
   "attachments": {},
   "cell_type": "markdown",
   "metadata": {},
   "source": [
    "We have trained our model, which gives us a correct accuracy. But we haven't used our validation set properly, and our test set at all. Let's correct that."
   ]
  },
  {
   "cell_type": "code",
   "execution_count": 37,
   "metadata": {},
   "outputs": [
    {
     "name": "stdout",
     "output_type": "stream",
     "text": [
      "4/4 [==============================] - 0s 3ms/step\n",
      "Accuracy on the validation set: 92.66%\n"
     ]
    }
   ],
   "source": [
    "# train model\n",
    "\n",
    "predictions_val = model.predict(X_val)\n",
    "rounded_predictions_val = [round(pred[0]) for pred in predictions_val]\n",
    "accuracy_val = accuracy_score(y_val, rounded_predictions_val)\n",
    "print(f'Accuracy on the validation set: {accuracy_val * 100:.2f}%')\n"
   ]
  },
  {
   "cell_type": "code",
   "execution_count": 39,
   "metadata": {},
   "outputs": [
    {
     "name": "stdout",
     "output_type": "stream",
     "text": [
      "1/4 [======>.......................] - ETA: 0s"
     ]
    },
    {
     "name": "stdout",
     "output_type": "stream",
     "text": [
      "4/4 [==============================] - 0s 3ms/step\n",
      "Accuracy on the test set: 92.73%\n"
     ]
    }
   ],
   "source": [
    "# predict on TEST set\n",
    "predictions_test = model.predict(X_test)\n",
    "rounded_predictions_test = [round(pred[0]) for pred in predictions_test]\n",
    "\n",
    "\n",
    "# calculate accuracy on test set\n",
    "\n",
    "accuracy_test = accuracy_score(y_test, rounded_predictions_test)\n",
    "print(f'Accuracy on the test set: {accuracy_test * 100:.2f}%')"
   ]
  },
  {
   "attachments": {},
   "cell_type": "markdown",
   "metadata": {},
   "source": [
    "Visualize training and validation losses and accuracies plots with the help of keras"
   ]
  },
  {
   "cell_type": "code",
   "execution_count": 41,
   "metadata": {},
   "outputs": [
    {
     "name": "stdout",
     "output_type": "stream",
     "text": [
      "Epoch 1/100\n"
     ]
    },
    {
     "name": "stdout",
     "output_type": "stream",
     "text": [
      "32/32 [==============================] - 0s 9ms/step - loss: 0.0649 - accuracy: 0.9119 - val_loss: 0.0443 - val_accuracy: 0.9633\n",
      "Epoch 2/100\n",
      "32/32 [==============================] - 0s 5ms/step - loss: 0.0649 - accuracy: 0.9100 - val_loss: 0.0443 - val_accuracy: 0.9633\n",
      "Epoch 3/100\n",
      "32/32 [==============================] - 0s 5ms/step - loss: 0.0648 - accuracy: 0.9090 - val_loss: 0.0443 - val_accuracy: 0.9633\n",
      "Epoch 4/100\n",
      "32/32 [==============================] - 0s 5ms/step - loss: 0.0648 - accuracy: 0.9100 - val_loss: 0.0443 - val_accuracy: 0.9633\n",
      "Epoch 5/100\n",
      "32/32 [==============================] - 0s 5ms/step - loss: 0.0648 - accuracy: 0.9110 - val_loss: 0.0443 - val_accuracy: 0.9633\n",
      "Epoch 6/100\n",
      "32/32 [==============================] - 0s 5ms/step - loss: 0.0647 - accuracy: 0.9100 - val_loss: 0.0443 - val_accuracy: 0.9633\n",
      "Epoch 7/100\n",
      "32/32 [==============================] - 0s 5ms/step - loss: 0.0647 - accuracy: 0.9100 - val_loss: 0.0443 - val_accuracy: 0.9633\n",
      "Epoch 8/100\n",
      "32/32 [==============================] - 0s 5ms/step - loss: 0.0646 - accuracy: 0.9100 - val_loss: 0.0443 - val_accuracy: 0.9633\n",
      "Epoch 9/100\n",
      "32/32 [==============================] - 0s 5ms/step - loss: 0.0646 - accuracy: 0.9110 - val_loss: 0.0443 - val_accuracy: 0.9633\n",
      "Epoch 10/100\n",
      "32/32 [==============================] - 0s 6ms/step - loss: 0.0645 - accuracy: 0.9110 - val_loss: 0.0443 - val_accuracy: 0.9633\n",
      "Epoch 11/100\n",
      "32/32 [==============================] - 0s 5ms/step - loss: 0.0645 - accuracy: 0.9110 - val_loss: 0.0443 - val_accuracy: 0.9633\n",
      "Epoch 12/100\n",
      "32/32 [==============================] - 0s 6ms/step - loss: 0.0644 - accuracy: 0.9100 - val_loss: 0.0443 - val_accuracy: 0.9633\n",
      "Epoch 13/100\n",
      "32/32 [==============================] - 0s 6ms/step - loss: 0.0644 - accuracy: 0.9100 - val_loss: 0.0443 - val_accuracy: 0.9633\n",
      "Epoch 14/100\n",
      "32/32 [==============================] - 0s 6ms/step - loss: 0.0643 - accuracy: 0.9110 - val_loss: 0.0443 - val_accuracy: 0.9633\n",
      "Epoch 15/100\n",
      "32/32 [==============================] - 0s 5ms/step - loss: 0.0643 - accuracy: 0.9110 - val_loss: 0.0444 - val_accuracy: 0.9633\n",
      "Epoch 16/100\n",
      "32/32 [==============================] - 0s 6ms/step - loss: 0.0643 - accuracy: 0.9110 - val_loss: 0.0443 - val_accuracy: 0.9541\n",
      "Epoch 17/100\n",
      "32/32 [==============================] - 0s 5ms/step - loss: 0.0642 - accuracy: 0.9110 - val_loss: 0.0444 - val_accuracy: 0.9541\n",
      "Epoch 18/100\n",
      "32/32 [==============================] - 0s 5ms/step - loss: 0.0642 - accuracy: 0.9100 - val_loss: 0.0444 - val_accuracy: 0.9541\n",
      "Epoch 19/100\n",
      "32/32 [==============================] - 0s 6ms/step - loss: 0.0642 - accuracy: 0.9100 - val_loss: 0.0444 - val_accuracy: 0.9541\n",
      "Epoch 20/100\n",
      "32/32 [==============================] - 0s 5ms/step - loss: 0.0641 - accuracy: 0.9139 - val_loss: 0.0444 - val_accuracy: 0.9541\n",
      "Epoch 21/100\n",
      "32/32 [==============================] - 0s 6ms/step - loss: 0.0641 - accuracy: 0.9139 - val_loss: 0.0444 - val_accuracy: 0.9541\n",
      "Epoch 22/100\n",
      "32/32 [==============================] - 0s 6ms/step - loss: 0.0640 - accuracy: 0.9119 - val_loss: 0.0444 - val_accuracy: 0.9541\n",
      "Epoch 23/100\n",
      "32/32 [==============================] - 0s 6ms/step - loss: 0.0640 - accuracy: 0.9129 - val_loss: 0.0444 - val_accuracy: 0.9541\n",
      "Epoch 24/100\n",
      "32/32 [==============================] - 0s 5ms/step - loss: 0.0639 - accuracy: 0.9129 - val_loss: 0.0444 - val_accuracy: 0.9541\n",
      "Epoch 25/100\n",
      "32/32 [==============================] - 0s 6ms/step - loss: 0.0639 - accuracy: 0.9129 - val_loss: 0.0444 - val_accuracy: 0.9541\n",
      "Epoch 26/100\n",
      "32/32 [==============================] - 0s 5ms/step - loss: 0.0639 - accuracy: 0.9129 - val_loss: 0.0444 - val_accuracy: 0.9541\n",
      "Epoch 27/100\n",
      "32/32 [==============================] - 0s 6ms/step - loss: 0.0638 - accuracy: 0.9119 - val_loss: 0.0444 - val_accuracy: 0.9541\n",
      "Epoch 28/100\n",
      "32/32 [==============================] - 0s 5ms/step - loss: 0.0638 - accuracy: 0.9139 - val_loss: 0.0443 - val_accuracy: 0.9541\n",
      "Epoch 29/100\n",
      "32/32 [==============================] - 0s 5ms/step - loss: 0.0637 - accuracy: 0.9129 - val_loss: 0.0443 - val_accuracy: 0.9541\n",
      "Epoch 30/100\n",
      "32/32 [==============================] - 0s 6ms/step - loss: 0.0637 - accuracy: 0.9139 - val_loss: 0.0443 - val_accuracy: 0.9541\n",
      "Epoch 31/100\n",
      "32/32 [==============================] - 0s 5ms/step - loss: 0.0637 - accuracy: 0.9139 - val_loss: 0.0443 - val_accuracy: 0.9541\n",
      "Epoch 32/100\n",
      "32/32 [==============================] - 0s 6ms/step - loss: 0.0636 - accuracy: 0.9129 - val_loss: 0.0443 - val_accuracy: 0.9541\n",
      "Epoch 33/100\n",
      "32/32 [==============================] - 0s 6ms/step - loss: 0.0636 - accuracy: 0.9139 - val_loss: 0.0442 - val_accuracy: 0.9541\n",
      "Epoch 34/100\n",
      "32/32 [==============================] - 0s 6ms/step - loss: 0.0636 - accuracy: 0.9139 - val_loss: 0.0442 - val_accuracy: 0.9541\n",
      "Epoch 35/100\n",
      "32/32 [==============================] - 0s 6ms/step - loss: 0.0635 - accuracy: 0.9129 - val_loss: 0.0442 - val_accuracy: 0.9541\n",
      "Epoch 36/100\n",
      "32/32 [==============================] - 0s 6ms/step - loss: 0.0635 - accuracy: 0.9119 - val_loss: 0.0442 - val_accuracy: 0.9541\n",
      "Epoch 37/100\n",
      "32/32 [==============================] - 0s 6ms/step - loss: 0.0635 - accuracy: 0.9139 - val_loss: 0.0442 - val_accuracy: 0.9541\n",
      "Epoch 38/100\n",
      "32/32 [==============================] - 0s 6ms/step - loss: 0.0634 - accuracy: 0.9129 - val_loss: 0.0442 - val_accuracy: 0.9541\n",
      "Epoch 39/100\n",
      "32/32 [==============================] - 0s 5ms/step - loss: 0.0634 - accuracy: 0.9129 - val_loss: 0.0442 - val_accuracy: 0.9541\n",
      "Epoch 40/100\n",
      "32/32 [==============================] - 0s 6ms/step - loss: 0.0634 - accuracy: 0.9139 - val_loss: 0.0442 - val_accuracy: 0.9541\n",
      "Epoch 41/100\n",
      "32/32 [==============================] - 0s 6ms/step - loss: 0.0633 - accuracy: 0.9129 - val_loss: 0.0442 - val_accuracy: 0.9541\n",
      "Epoch 42/100\n",
      "32/32 [==============================] - 0s 6ms/step - loss: 0.0633 - accuracy: 0.9129 - val_loss: 0.0441 - val_accuracy: 0.9541\n",
      "Epoch 43/100\n",
      "32/32 [==============================] - 0s 6ms/step - loss: 0.0633 - accuracy: 0.9129 - val_loss: 0.0441 - val_accuracy: 0.9541\n",
      "Epoch 44/100\n",
      "32/32 [==============================] - 0s 6ms/step - loss: 0.0632 - accuracy: 0.9139 - val_loss: 0.0441 - val_accuracy: 0.9541\n",
      "Epoch 45/100\n",
      "32/32 [==============================] - 0s 6ms/step - loss: 0.0632 - accuracy: 0.9139 - val_loss: 0.0441 - val_accuracy: 0.9541\n",
      "Epoch 46/100\n",
      "32/32 [==============================] - 0s 6ms/step - loss: 0.0632 - accuracy: 0.9119 - val_loss: 0.0441 - val_accuracy: 0.9541\n",
      "Epoch 47/100\n",
      "32/32 [==============================] - 0s 6ms/step - loss: 0.0631 - accuracy: 0.9129 - val_loss: 0.0441 - val_accuracy: 0.9541\n",
      "Epoch 48/100\n",
      "32/32 [==============================] - 0s 6ms/step - loss: 0.0631 - accuracy: 0.9139 - val_loss: 0.0441 - val_accuracy: 0.9450\n",
      "Epoch 49/100\n",
      "32/32 [==============================] - 0s 6ms/step - loss: 0.0631 - accuracy: 0.9129 - val_loss: 0.0441 - val_accuracy: 0.9450\n",
      "Epoch 50/100\n",
      "32/32 [==============================] - 0s 6ms/step - loss: 0.0630 - accuracy: 0.9119 - val_loss: 0.0441 - val_accuracy: 0.9450\n",
      "Epoch 51/100\n",
      "32/32 [==============================] - 0s 6ms/step - loss: 0.0630 - accuracy: 0.9129 - val_loss: 0.0441 - val_accuracy: 0.9450\n",
      "Epoch 52/100\n",
      "32/32 [==============================] - 0s 6ms/step - loss: 0.0630 - accuracy: 0.9139 - val_loss: 0.0441 - val_accuracy: 0.9450\n",
      "Epoch 53/100\n",
      "32/32 [==============================] - 0s 5ms/step - loss: 0.0629 - accuracy: 0.9149 - val_loss: 0.0441 - val_accuracy: 0.9450\n",
      "Epoch 54/100\n",
      "32/32 [==============================] - 0s 6ms/step - loss: 0.0629 - accuracy: 0.9149 - val_loss: 0.0441 - val_accuracy: 0.9450\n",
      "Epoch 55/100\n",
      "32/32 [==============================] - 0s 6ms/step - loss: 0.0629 - accuracy: 0.9139 - val_loss: 0.0441 - val_accuracy: 0.9450\n",
      "Epoch 56/100\n",
      "32/32 [==============================] - 0s 6ms/step - loss: 0.0628 - accuracy: 0.9149 - val_loss: 0.0441 - val_accuracy: 0.9450\n",
      "Epoch 57/100\n",
      "32/32 [==============================] - 0s 6ms/step - loss: 0.0628 - accuracy: 0.9149 - val_loss: 0.0441 - val_accuracy: 0.9450\n",
      "Epoch 58/100\n",
      "32/32 [==============================] - 0s 6ms/step - loss: 0.0628 - accuracy: 0.9129 - val_loss: 0.0441 - val_accuracy: 0.9450\n",
      "Epoch 59/100\n",
      "32/32 [==============================] - 0s 5ms/step - loss: 0.0627 - accuracy: 0.9129 - val_loss: 0.0441 - val_accuracy: 0.9450\n",
      "Epoch 60/100\n",
      "32/32 [==============================] - 0s 5ms/step - loss: 0.0627 - accuracy: 0.9139 - val_loss: 0.0441 - val_accuracy: 0.9450\n",
      "Epoch 61/100\n",
      "32/32 [==============================] - 0s 6ms/step - loss: 0.0627 - accuracy: 0.9129 - val_loss: 0.0440 - val_accuracy: 0.9450\n",
      "Epoch 62/100\n",
      "32/32 [==============================] - 0s 5ms/step - loss: 0.0626 - accuracy: 0.9139 - val_loss: 0.0440 - val_accuracy: 0.9450\n",
      "Epoch 63/100\n",
      "32/32 [==============================] - 0s 6ms/step - loss: 0.0626 - accuracy: 0.9139 - val_loss: 0.0440 - val_accuracy: 0.9450\n",
      "Epoch 64/100\n",
      "32/32 [==============================] - 0s 6ms/step - loss: 0.0626 - accuracy: 0.9139 - val_loss: 0.0440 - val_accuracy: 0.9450\n",
      "Epoch 65/100\n",
      "32/32 [==============================] - 0s 5ms/step - loss: 0.0625 - accuracy: 0.9129 - val_loss: 0.0440 - val_accuracy: 0.9450\n",
      "Epoch 66/100\n",
      "32/32 [==============================] - 0s 5ms/step - loss: 0.0625 - accuracy: 0.9139 - val_loss: 0.0440 - val_accuracy: 0.9450\n",
      "Epoch 67/100\n",
      "32/32 [==============================] - 0s 5ms/step - loss: 0.0625 - accuracy: 0.9139 - val_loss: 0.0440 - val_accuracy: 0.9450\n",
      "Epoch 68/100\n",
      "32/32 [==============================] - 0s 6ms/step - loss: 0.0624 - accuracy: 0.9139 - val_loss: 0.0440 - val_accuracy: 0.9450\n",
      "Epoch 69/100\n",
      "32/32 [==============================] - 0s 5ms/step - loss: 0.0624 - accuracy: 0.9139 - val_loss: 0.0440 - val_accuracy: 0.9450\n",
      "Epoch 70/100\n",
      "32/32 [==============================] - 0s 6ms/step - loss: 0.0624 - accuracy: 0.9139 - val_loss: 0.0440 - val_accuracy: 0.9450\n",
      "Epoch 71/100\n",
      "32/32 [==============================] - 0s 6ms/step - loss: 0.0624 - accuracy: 0.9129 - val_loss: 0.0440 - val_accuracy: 0.9450\n",
      "Epoch 72/100\n",
      "32/32 [==============================] - 0s 6ms/step - loss: 0.0623 - accuracy: 0.9139 - val_loss: 0.0440 - val_accuracy: 0.9450\n",
      "Epoch 73/100\n",
      "32/32 [==============================] - 0s 6ms/step - loss: 0.0623 - accuracy: 0.9139 - val_loss: 0.0440 - val_accuracy: 0.9450\n",
      "Epoch 74/100\n",
      "32/32 [==============================] - 0s 6ms/step - loss: 0.0623 - accuracy: 0.9139 - val_loss: 0.0440 - val_accuracy: 0.9450\n",
      "Epoch 75/100\n",
      "32/32 [==============================] - 0s 6ms/step - loss: 0.0622 - accuracy: 0.9139 - val_loss: 0.0440 - val_accuracy: 0.9450\n",
      "Epoch 76/100\n",
      "32/32 [==============================] - 0s 5ms/step - loss: 0.0622 - accuracy: 0.9139 - val_loss: 0.0440 - val_accuracy: 0.9450\n",
      "Epoch 77/100\n",
      "32/32 [==============================] - 0s 5ms/step - loss: 0.0622 - accuracy: 0.9139 - val_loss: 0.0440 - val_accuracy: 0.9450\n",
      "Epoch 78/100\n",
      "32/32 [==============================] - 0s 5ms/step - loss: 0.0622 - accuracy: 0.9139 - val_loss: 0.0440 - val_accuracy: 0.9450\n",
      "Epoch 79/100\n",
      "32/32 [==============================] - 0s 6ms/step - loss: 0.0621 - accuracy: 0.9139 - val_loss: 0.0440 - val_accuracy: 0.9450\n",
      "Epoch 80/100\n",
      "32/32 [==============================] - 0s 6ms/step - loss: 0.0621 - accuracy: 0.9139 - val_loss: 0.0440 - val_accuracy: 0.9450\n",
      "Epoch 81/100\n",
      "32/32 [==============================] - 0s 6ms/step - loss: 0.0621 - accuracy: 0.9139 - val_loss: 0.0440 - val_accuracy: 0.9450\n",
      "Epoch 82/100\n",
      "32/32 [==============================] - 0s 6ms/step - loss: 0.0621 - accuracy: 0.9139 - val_loss: 0.0440 - val_accuracy: 0.9450\n",
      "Epoch 83/100\n",
      "32/32 [==============================] - 0s 6ms/step - loss: 0.0620 - accuracy: 0.9139 - val_loss: 0.0439 - val_accuracy: 0.9450\n",
      "Epoch 84/100\n",
      "32/32 [==============================] - 0s 5ms/step - loss: 0.0620 - accuracy: 0.9149 - val_loss: 0.0439 - val_accuracy: 0.9450\n",
      "Epoch 85/100\n",
      "32/32 [==============================] - 0s 6ms/step - loss: 0.0619 - accuracy: 0.9149 - val_loss: 0.0439 - val_accuracy: 0.9450\n",
      "Epoch 86/100\n",
      "32/32 [==============================] - 0s 6ms/step - loss: 0.0619 - accuracy: 0.9159 - val_loss: 0.0439 - val_accuracy: 0.9450\n",
      "Epoch 87/100\n",
      "32/32 [==============================] - 0s 6ms/step - loss: 0.0619 - accuracy: 0.9149 - val_loss: 0.0439 - val_accuracy: 0.9450\n",
      "Epoch 88/100\n",
      "32/32 [==============================] - 0s 6ms/step - loss: 0.0619 - accuracy: 0.9149 - val_loss: 0.0439 - val_accuracy: 0.9450\n",
      "Epoch 89/100\n",
      "32/32 [==============================] - 0s 6ms/step - loss: 0.0618 - accuracy: 0.9149 - val_loss: 0.0439 - val_accuracy: 0.9450\n",
      "Epoch 90/100\n",
      "32/32 [==============================] - 0s 5ms/step - loss: 0.0618 - accuracy: 0.9149 - val_loss: 0.0439 - val_accuracy: 0.9450\n",
      "Epoch 91/100\n",
      "32/32 [==============================] - 0s 6ms/step - loss: 0.0618 - accuracy: 0.9159 - val_loss: 0.0439 - val_accuracy: 0.9450\n",
      "Epoch 92/100\n",
      "32/32 [==============================] - 0s 7ms/step - loss: 0.0617 - accuracy: 0.9159 - val_loss: 0.0439 - val_accuracy: 0.9450\n",
      "Epoch 93/100\n",
      "32/32 [==============================] - 0s 5ms/step - loss: 0.0617 - accuracy: 0.9149 - val_loss: 0.0439 - val_accuracy: 0.9450\n",
      "Epoch 94/100\n",
      "32/32 [==============================] - 0s 5ms/step - loss: 0.0617 - accuracy: 0.9159 - val_loss: 0.0439 - val_accuracy: 0.9450\n",
      "Epoch 95/100\n",
      "32/32 [==============================] - 0s 6ms/step - loss: 0.0617 - accuracy: 0.9159 - val_loss: 0.0439 - val_accuracy: 0.9450\n",
      "Epoch 96/100\n",
      "32/32 [==============================] - 0s 5ms/step - loss: 0.0616 - accuracy: 0.9159 - val_loss: 0.0439 - val_accuracy: 0.9450\n",
      "Epoch 97/100\n",
      "32/32 [==============================] - 0s 6ms/step - loss: 0.0616 - accuracy: 0.9159 - val_loss: 0.0439 - val_accuracy: 0.9450\n",
      "Epoch 98/100\n",
      "32/32 [==============================] - 0s 5ms/step - loss: 0.0616 - accuracy: 0.9149 - val_loss: 0.0439 - val_accuracy: 0.9450\n",
      "Epoch 99/100\n",
      "32/32 [==============================] - 0s 6ms/step - loss: 0.0616 - accuracy: 0.9159 - val_loss: 0.0439 - val_accuracy: 0.9450\n",
      "Epoch 100/100\n",
      "32/32 [==============================] - 0s 6ms/step - loss: 0.0615 - accuracy: 0.9168 - val_loss: 0.0439 - val_accuracy: 0.9450\n"
     ]
    },
    {
     "data": {
      "image/png": "[encoded data removed]",
      "text/plain": [
       "<Figure size 800x500 with 1 Axes>"
      ]
     },
     "metadata": {},
     "output_type": "display_data"
    }
   ],
   "source": [
    "# visualize training and validation accuracies\n",
    "\n",
    "import matplotlib.pyplot as plt\n",
    "\n",
    "\n",
    "history = model.fit(X_train, y_train, epochs=100, batch_size=32, validation_data=(X_val, y_val))\n",
    "\n",
    "plt.figure(figsize=(8, 5))\n",
    "\n",
    "plt.plot(history.history['accuracy'], label='Training Accuracy')\n",
    "plt.plot(history.history['val_accuracy'], label='Validation Accuracy')\n",
    "\n",
    "plt.title('Training and Validation Accuracy')\n",
    "plt.xlabel('Epochs')\n",
    "plt.ylabel('Accuracy')\n",
    "plt.legend()\n",
    "plt.show()\n"
   ]
  },
  {
   "cell_type": "code",
   "execution_count": 42,
   "metadata": {},
   "outputs": [
    {
     "data": {
      "image/png": "[encoded data removed]",
      "text/plain": [
       "<Figure size 800x500 with 1 Axes>"
      ]
     },
     "metadata": {},
     "output_type": "display_data"
    }
   ],
   "source": [
    "# visualize training and validation losses\n",
    "plt.figure(figsize=(8, 5))\n",
    "\n",
    "\n",
    "plt.plot(history.history['loss'], label='Training Loss')\n",
    "plt.plot(history.history['val_loss'], label='Validation Loss')\n",
    "\n",
    "plt.title('Training and Validation Loss')\n",
    "plt.xlabel('Epochs')\n",
    "plt.ylabel('Loss')\n",
    "plt.legend()\n",
    "plt.show()"
   ]
  },
  {
   "attachments": {},
   "cell_type": "markdown",
   "metadata": {},
   "source": [
    "We have trained our neural network on the entire dataset and we can evaluate the performance of the network on the same dataset. A list of most hyperparameters available keras: "
   ]
  },
  {
   "attachments": {},
   "cell_type": "markdown",
   "metadata": {},
   "source": [
    "https://keras.io/api/layers/initializers/\n",
    "\n",
    "https://keras.io/api/layers/activations/\n",
    "\n",
    "https://keras.io/api/losses/\n",
    "\n",
    "https://keras.io/api/optimizers/"
   ]
  },
  {
   "cell_type": "code",
   "execution_count": null,
   "metadata": {},
   "outputs": [],
   "source": []
  }
 ],
 "metadata": {
  "kernelspec": {
   "display_name": "Python 3",
   "language": "python",
   "name": "python3"
  },
  "language_info": {
   "codemirror_mode": {
    "name": "ipython",
    "version": 3
   },
   "file_extension": ".py",
   "mimetype": "text/x-python",
   "name": "python",
   "nbconvert_exporter": "python",
   "pygments_lexer": "ipython3",
   "version": "3.9.0"
  },
  "toc": {
   "base_numbering": 1,
   "nav_menu": {},
   "number_sections": true,
   "sideBar": true,
   "skip_h1_title": false,
   "title_cell": "Table of Contents",
   "title_sidebar": "Contents",
   "toc_cell": false,
   "toc_position": {},
   "toc_section_display": true,
   "toc_window_display": false
  },
  "varInspector": {
   "cols": {
    "lenName": 16,
    "lenType": 16,
    "lenVar": 40
   },
   "kernels_config": {
    "python": {
     "delete_cmd_postfix": "",
     "delete_cmd_prefix": "del ",
     "library": "var_list.py",
     "varRefreshCmd": "print(var_dic_list())"
    },
    "r": {
     "delete_cmd_postfix": ") ",
     "delete_cmd_prefix": "rm(",
     "library": "var_list.r",
     "varRefreshCmd": "cat(var_dic_list()) "
    }
   },
   "types_to_exclude": [
    "module",
    "function",
    "builtin_function_or_method",
    "instance",
    "_Feature"
   ],
   "window_display": false
  }
 },
 "nbformat": 4,
 "nbformat_minor": 2
}
